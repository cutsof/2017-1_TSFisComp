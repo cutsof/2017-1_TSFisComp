{
 "cells": [
  {
   "cell_type": "markdown",
   "metadata": {},
   "source": [
    "# Tarea 1\n",
    "\n",
    "* Sofía Cruz T. (**@cutsof**)\n",
    "* Daniel Martínez U. (**@danmarurr**)"
   ]
  },
  {
   "cell_type": "markdown",
   "metadata": {},
   "source": [
    "## Sección 1:\"Introduction sequence\"\n",
    "\n",
    "### Ejercicio 3\n",
    "```\n",
    "git checkout -b bugFix   # Crea una rama y se posiciona en ella\n",
    "git commit               # Se crea un nuevo commit en la rama bugFix\n",
    "git checkout master      # Se cambia el apuntador a la rama \"master\"\n",
    "git commit               # Se crea un nuevo commit en la rama master\n",
    "git merge bugFix         # Se fusiona el contenido de la rama bugFix en la rama master\n",
    "```\n",
    "\n",
    "![alt text](ImagenesT1/s1e3.png \"Sección Introduction Sequence, Ejercicio 3\")\n",
    "\n",
    "### Ejercicio 4\n",
    "```\n",
    "git checkout -b bugFix   # Crea una rama y se posiciona en ella\n",
    "git commit               # Se crea un nuevo commit en la rama bugFix\n",
    "git checkout master      # Se cambia el apuntador a la rama master\n",
    "git commit               # Se crea un nuevo commit en la rama master\n",
    "git checkout bugFix      # Se cambia el apuntador a la rama bugFix\n",
    "git rebase master        # Se \"rebasa\" la rama master con los cambios hechos en bugFix\n",
    "```\n",
    "\n",
    "![alt text](ImagenesT1/s1e4.png \"Sección Introduction Sequence, Ejercicio 4\")"
   ]
  }
 ],
 "metadata": {
  "kernelspec": {
   "display_name": "Julia 0.4.5",
   "language": "julia",
   "name": "julia-0.4"
  },
  "language_info": {
   "file_extension": ".jl",
   "mimetype": "application/julia",
   "name": "julia",
   "version": "0.4.6"
  }
 },
 "nbformat": 4,
 "nbformat_minor": 0
}
