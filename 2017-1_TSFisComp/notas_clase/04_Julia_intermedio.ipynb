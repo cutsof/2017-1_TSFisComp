{
 "cells": [
  {
   "cell_type": "markdown",
   "metadata": {},
   "source": [
    "# Julia nivel intermedio"
   ]
  },
  {
   "cell_type": "markdown",
   "metadata": {},
   "source": [
    "Hemos visto varias cosas:\n",
    "\n",
    "- asignación de variables, incluyendo diversos tipos numéricos(`Int64`, `Float64`, `BigFloat`, `Complex{Float64}`, `Rational{Int64}`, etc), cadenas, vectores, matrices\n",
    "\n",
    "- ciclos (`for`...`end`; `while`...`end`) y rangos (`a:b`)\n",
    "\n",
    "- diversas formas de condicionales\n",
    "\n",
    "- funciones simples\n",
    "\n",
    "Aquí seguiremos con esto, introduciendo ahora el concepto de funciones paramétricas, la forma de definir tipos arbitrarios y cómo escribir código que escribe o modifica código."
   ]
  },
  {
   "cell_type": "markdown",
   "metadata": {},
   "source": [
    "## Ejemplo: el método de Newton"
   ]
  },
  {
   "cell_type": "markdown",
   "metadata": {},
   "source": [
    "Como bien sabemos, el método de Newton es un método iterativo para encontrar los ceros, o raíces, de una ecuación $f(x)=0$. A partir de una aproximación $x_0$, y denotando la derivada de $f(x)$ como $f'(x)$, tenemos:\n",
    "\n",
    "\\begin{equation}\n",
    "x_{n+1} = x_n - \\frac{f(x_n)}{f'(x_n)} .\n",
    "\\end{equation}\n",
    "\n"
   ]
  },
  {
   "cell_type": "markdown",
   "metadata": {},
   "source": [
    "Para ejemplificar las cosas usaremos la función $f(x) = x^2-2$:"
   ]
  },
  {
   "cell_type": "code",
   "execution_count": 49,
   "metadata": {
    "collapsed": false
   },
   "outputs": [
    {
     "data": {
      "text/plain": [
       "f (generic function with 1 method)"
      ]
     },
     "execution_count": 49,
     "metadata": {},
     "output_type": "execute_result"
    }
   ],
   "source": [
    "f(x) = x^2 - 2.0"
   ]
  },
  {
   "cell_type": "markdown",
   "metadata": {},
   "source": [
    "... y su derivada:"
   ]
  },
  {
   "cell_type": "code",
   "execution_count": 50,
   "metadata": {
    "collapsed": false
   },
   "outputs": [
    {
     "data": {
      "text/plain": [
       "f´ (generic function with 1 method)"
      ]
     },
     "execution_count": 50,
     "metadata": {},
     "output_type": "execute_result"
    }
   ],
   "source": [
    "f´(x) = 2*x"
   ]
  },
  {
   "cell_type": "markdown",
   "metadata": {},
   "source": [
    "Entonces, el método de Newton vendría dado por el siguiente código:"
   ]
  },
  {
   "cell_type": "code",
   "execution_count": 51,
   "metadata": {
    "collapsed": false
   },
   "outputs": [
    {
     "name": "stdout",
     "output_type": "stream",
     "text": [
      "1\t"
     ]
    }
   ],
   "source": [
    "x_0 = 3.0\n",
    "\n",
    "for i in 1:10  # Consideramos 10 iteraciones del método\n",
    "    x_new = x_0 - f(x_0) / f´(x_0)\n",
    "    println(i, \"\\t\", x_new)\n",
    "    x_0 = x_new\n",
    "end"
   ]
  },
  {
   "cell_type": "code",
   "execution_count": 52,
   "metadata": {
    "collapsed": false
   },
   "outputs": [
    {
     "data": {
      "text/plain": [
       "1.4142135623730951"
      ]
     },
     "execution_count": 52,
     "metadata": {},
     "output_type": "execute_result"
    }
   ],
   "source": [
    "sqrt(2.0)"
   ]
  },
  {
   "cell_type": "markdown",
   "metadata": {},
   "source": [
    "Recordando la clase de cálculo I, el método de Newton converge si $x_0$ es *suficientemente* cercano a la raíz. Veamos qué pasa si *variamos* la condición inicial $x_0$."
   ]
  },
  {
   "cell_type": "code",
   "execution_count": 53,
   "metadata": {
    "collapsed": false
   },
   "outputs": [
    {
     "data": {
      "text/plain": [
       "-3.0:0.125:3.0"
      ]
     },
     "execution_count": 53,
     "metadata": {},
     "output_type": "execute_result"
    }
   ],
   "source": [
    "initial_guess = -3:0.125:3"
   ]
  },
  {
   "cell_type": "code",
   "execution_count": 54,
   "metadata": {
    "collapsed": false
   },
   "outputs": [
    {
     "data": {
      "text/plain": [
       "FloatRange{Float64}"
      ]
     },
     "execution_count": 54,
     "metadata": {},
     "output_type": "execute_result"
    }
   ],
   "source": [
    "typeof(initial_guess)"
   ]
  },
  {
   "cell_type": "code",
   "execution_count": 55,
   "metadata": {
    "collapsed": false
   },
   "outputs": [
    {
     "data": {
      "text/plain": [
       "49-element Array{Float64,1}:\n",
       " -3.0  \n",
       " -2.875\n",
       " -2.75 \n",
       " -2.625\n",
       " -2.5  \n",
       " -2.375\n",
       " -2.25 \n",
       " -2.125\n",
       " -2.0  \n",
       " -1.875\n",
       " -1.75 \n",
       " -1.625\n",
       " -1.5  \n",
       "  ⋮    \n",
       "  1.625\n",
       "  1.75 \n",
       "  1.875\n",
       "  2.0  \n",
       "  2.125\n",
       "  2.25 \n",
       "  2.375\n",
       "  2.5  \n",
       "  2.625\n",
       "  2.75 \n",
       "  2.875\n",
       "  3.0  "
      ]
     },
     "execution_count": 55,
     "metadata": {},
     "output_type": "execute_result"
    }
   ],
   "source": [
    "collect(initial_guess)   # use tab-completion <TAB> for long variable names!"
   ]
  },
  {
   "cell_type": "markdown",
   "metadata": {},
   "source": [
    "Defino el arreglo de salida que, entrada por entrada, corresponderá a las condiciones iniciales definidas en `initial_conditions`."
   ]
  },
  {
   "cell_type": "code",
   "execution_count": 56,
   "metadata": {
    "collapsed": false
   },
   "outputs": [
    {
     "data": {
      "text/plain": [
       "49-element Array{Float64,1}:\n",
       " 6.93137e-310\n",
       " 6.93137e-310\n",
       " 6.93137e-310\n",
       " 6.93137e-310\n",
       " 6.93137e-310\n",
       " 6.93137e-310\n",
       " 6.93137e-310\n",
       " 6.93137e-310\n",
       " 6.93137e-310\n",
       " 6.93137e-310\n",
       " 6.93137e-310\n",
       " 6.93137e-310\n",
       " 6.93137e-310\n",
       " ⋮           \n",
       " 0.0         \n",
       " 0.0         \n",
       " 0.0         \n",
       " 0.0         \n",
       " 0.0         \n",
       " 0.0         \n",
       " 0.0         \n",
       " 0.0         \n",
       " 0.0         \n",
       " 0.0         \n",
       " 0.0         \n",
       " 0.0         "
      ]
     },
     "execution_count": 56,
     "metadata": {},
     "output_type": "execute_result"
    }
   ],
   "source": [
    "roots = similar(initial_guess)  # `similar` copy la estructura de `initial_guess` (tipo y \n",
    "                                # tamaño en `roots`"
   ]
  },
  {
   "cell_type": "markdown",
   "metadata": {},
   "source": [
    "El número de datos de `initial_guess` es precisamente 49:"
   ]
  },
  {
   "cell_type": "code",
   "execution_count": 57,
   "metadata": {
    "collapsed": false
   },
   "outputs": [
    {
     "data": {
      "text/plain": [
       "49"
      ]
     },
     "execution_count": 57,
     "metadata": {},
     "output_type": "execute_result"
    }
   ],
   "source": [
    "length(initial_guess)"
   ]
  },
  {
   "cell_type": "markdown",
   "metadata": {},
   "source": [
    "Ahora, implementamos todo junto; abajo, `enumerate(initial_conditions)` regresa una *tupla* con un enetero, que es el índice de la condición inicial (`j`), y su valor (`x_0`)"
   ]
  },
  {
   "cell_type": "code",
   "execution_count": 58,
   "metadata": {
    "collapsed": false
   },
   "outputs": [],
   "source": [
    "for (j, x_0) in enumerate(initial_guess)\n",
    "    x = x_0\n",
    "\n",
    "    # 100 iterates of Newton's method\n",
    "    for i in 1:100\n",
    "        x = x - f(x) / f´(x)\n",
    "    end\n",
    "    \n",
    "    roots[j] = x\n",
    "end"
   ]
  },
  {
   "cell_type": "markdown",
   "metadata": {},
   "source": [
    "Veamos los resultados:"
   ]
  },
  {
   "cell_type": "code",
   "execution_count": 59,
   "metadata": {
    "collapsed": false
   },
   "outputs": [
    {
     "name": "stdout",
     "output_type": "stream",
     "text": [
      "[-"
     ]
    }
   ],
   "source": [
    "showall(roots)"
   ]
  },
  {
   "cell_type": "markdown",
   "metadata": {},
   "source": [
    "**Pregunta:** ¿Por qué hay un `NaN` entre las raíces obtenidas?"
   ]
  },
  {
   "cell_type": "code",
   "execution_count": 60,
   "metadata": {
    "collapsed": false
   },
   "outputs": [
    {
     "data": {
      "text/plain": [
       "NaN"
      ]
     },
     "execution_count": 60,
     "metadata": {},
     "output_type": "execute_result"
    }
   ],
   "source": [
    "roots[25]"
   ]
  },
  {
   "cell_type": "code",
   "execution_count": null,
   "metadata": {
    "collapsed": true
   },
   "outputs": [],
   "source": []
  },
  {
   "cell_type": "markdown",
   "metadata": {},
   "source": [
    "\n",
    "\n",
    "\n"
   ]
  },
  {
   "cell_type": "markdown",
   "metadata": {},
   "source": [
    "Ahora vamos a visualizar esto. Para eso usaremos el paquete \"PyPlot\", que es una interface para usar \"matplotlb\".\n",
    "\n",
    "Para instalarlo es necesario usar el siguiente comando:\n",
    "```julia\n",
    "    Pkg.add(\"PyPlot\")\n",
    "```\n",
    "\n",
    "Otros paquetes *registrados* se pueden encontrar [aquí](http://pkg.julialang.org/); la lista empieza a ser larga!"
   ]
  },
  {
   "cell_type": "markdown",
   "metadata": {},
   "source": [
    "Para empezar a usar un paquete ya instalado, en este caso \"PyPlot\", usamos el comando:\n",
    "\n",
    "```julia\n",
    "    using PyPlot\n",
    "```\n",
    "\n",
    "(Puede tardar un poco la primera vez que se utiliza.)"
   ]
  },
  {
   "cell_type": "code",
   "execution_count": 61,
   "metadata": {
    "collapsed": false
   },
   "outputs": [],
   "source": [
    "using PyPlot"
   ]
  },
  {
   "cell_type": "code",
   "execution_count": 62,
   "metadata": {
    "collapsed": false
   },
   "outputs": [
    {
     "data": {
      "image/png": "[encoded data removed]",
      "text/plain": [
       "PyPlot.Figure(PyObject <matplotlib.figure.Figure object at 0x7f983e543050>)"
      ]
     },
     "metadata": {},
     "output_type": "display_data"
    },
    {
     "data": {
      "text/plain": [
       "1-element Array{Any,1}:\n",
       " PyObject <matplotlib.lines.Line2D object at 0x7f983e47bf50>"
      ]
     },
     "execution_count": 62,
     "metadata": {},
     "output_type": "execute_result"
    }
   ],
   "source": [
    "figure(figsize=(6,4)) # este comando define el tamaño de la figura\n",
    "\n",
    "plot(roots)           # este comando pinta las componentes \"y\" (`roots`); \n",
    "                      # en \"x\" se utiliza el índice del vector"
   ]
  },
  {
   "cell_type": "code",
   "execution_count": 63,
   "metadata": {
    "collapsed": false
   },
   "outputs": [
    {
     "data": {
      "image/png": "[encoded data removed]",
      "text/plain": [
       "PyPlot.Figure(PyObject <matplotlib.figure.Figure object at 0x7f983e528a10>)"
      ]
     },
     "metadata": {},
     "output_type": "display_data"
    },
    {
     "data": {
      "text/plain": [
       "PyObject <matplotlib.text.Text object at 0x7f983e44fd90>"
      ]
     },
     "execution_count": 63,
     "metadata": {},
     "output_type": "execute_result"
    }
   ],
   "source": [
    "figure(figsize=(6,4)) # este comando define el tamaño de la figura\n",
    "\n",
    "plot(initial_guess, roots)    # este comando pinta las componentes \"y\" (`roots`); \n",
    "                              # en \"x\" se utiliza `initial_guess`\n",
    "title(L\"convergencia por Newton de $f(x)=x^2-2$\")"
   ]
  },
  {
   "cell_type": "markdown",
   "metadata": {},
   "source": [
    "## Rendimiento"
   ]
  },
  {
   "cell_type": "markdown",
   "metadata": {},
   "source": [
    "La manera en que procedimos arriba **no** es la óptima para trabajar en Julia. Es **mucho** mejor poner código que será utilizado de manera repetida dentro de una función."
   ]
  },
  {
   "cell_type": "markdown",
   "metadata": {},
   "source": [
    "Entonces, lo anterior, lo empacamos dentro de una función."
   ]
  },
  {
   "cell_type": "code",
   "execution_count": 64,
   "metadata": {
    "collapsed": false
   },
   "outputs": [
    {
     "data": {
      "text/plain": [
       "compute_roots (generic function with 3 methods)"
      ]
     },
     "execution_count": 64,
     "metadata": {},
     "output_type": "execute_result"
    }
   ],
   "source": [
    "\"\"\"\n",
    "    compute_roots()\n",
    "\n",
    "This function computes the roots of `f(x)` (which must be defined before) \n",
    "for different initial iterates in the range [-20,20], and returns them \n",
    "packed in a vector.\n",
    "\"\"\"\n",
    "function compute_roots()\n",
    "    initial_conditions = -20:0.125:20\n",
    "    roots = similar(initial_conditions)\n",
    "\n",
    "    for (j, x_0) in enumerate(initial_conditions)\n",
    "        x = x_0\n",
    "\n",
    "        # 100 iterations of Newton's method\n",
    "        for i in 1:100\n",
    "            x = x - f(x) / f´(x)\n",
    "        end\n",
    "\n",
    "        roots[j] = x\n",
    "    end\n",
    "    \n",
    "    roots\n",
    "end"
   ]
  },
  {
   "cell_type": "markdown",
   "metadata": {},
   "source": [
    "Noten la salida de la definición de la función `compute_roots`:\n",
    "\n",
    "```\n",
    "    compute_roots (generic function with 1 method)\n",
    "```\n",
    "\n",
    "A esto volveremos más adelante..."
   ]
  },
  {
   "cell_type": "code",
   "execution_count": 65,
   "metadata": {
    "collapsed": false
   },
   "outputs": [
    {
     "name": "stdout",
     "output_type": "stream",
     "text": [
      "search: "
     ]
    },
    {
     "data": {
      "text/latex": [
       "\\begin{verbatim}\n",
       "compute_roots()\n",
       "\\end{verbatim}\n",
       "This function computes the roots of \\texttt{f(x)} (which must be defined before)  for different initial iterates in the range given by the user, and returns them  packed in a vector.\n",
       "\\begin{verbatim}\n",
       "compute_roots()\n",
       "\\end{verbatim}\n",
       "This function computes the roots of \\texttt{f(x)} (which must be defined before)  for different initial iterates in the range [-20,20], and returns them  packed in a vector.\n"
      ],
      "text/markdown": [
       "```\n",
       "compute_roots()\n",
       "```\n",
       "\n",
       "This function computes the roots of `f(x)` (which must be defined before)  for different initial iterates in the range given by the user, and returns them  packed in a vector.\n",
       "\n",
       "```\n",
       "compute_roots()\n",
       "```\n",
       "\n",
       "This function computes the roots of `f(x)` (which must be defined before)  for different initial iterates in the range [-20,20], and returns them  packed in a vector.\n"
      ],
      "text/plain": [
       "```\n",
       "compute_roots()\n",
       "```\n",
       "\n",
       "This function computes the roots of `f(x)` (which must be defined before)  for different initial iterates in the range given by the user, and returns them  packed in a vector.\n",
       "\n",
       "```\n",
       "compute_roots()\n",
       "```\n",
       "\n",
       "This function computes the roots of `f(x)` (which must be defined before)  for different initial iterates in the range [-20,20], and returns them  packed in a vector.\n"
      ]
     },
     "execution_count": 65,
     "metadata": {},
     "output_type": "execute_result"
    }
   ],
   "source": [
    "?compute_roots"
   ]
  },
  {
   "cell_type": "markdown",
   "metadata": {},
   "source": [
    "**Ejercicio 1:** ¿Cuál es el tipo de `initial_conditions` y cual es el de `roots`?"
   ]
  },
  {
   "cell_type": "code",
   "execution_count": null,
   "metadata": {
    "collapsed": true
   },
   "outputs": [],
   "source": []
  },
  {
   "cell_type": "code",
   "execution_count": 66,
   "metadata": {
    "collapsed": false
   },
   "outputs": [],
   "source": [
    "# \";\" suprime la salida (el vector es demasiado largo)\n",
    "roots = compute_roots();"
   ]
  },
  {
   "cell_type": "markdown",
   "metadata": {},
   "source": [
    "¿Cuánto tiempo tardó esto?\n",
    "\n",
    "El *macro* `@time` (que usamos la clase pasada) permite precisamente medir el tiempo de ejecución.\n",
    "\n",
    "Julia *compila* cada función la primera vez que es utilizada. Es por eso que conviene compilar `@time`, y luego la ejecución de `@time` con la función que nos interesa medir. Así, para medir de manera consistente el tiempo de ejecución (modulo pequeñas fluctuaciones), es importante no incluir en esa medición la compilación de la función."
   ]
  },
  {
   "cell_type": "code",
   "execution_count": 67,
   "metadata": {
    "collapsed": false
   },
   "outputs": [],
   "source": [
    "@time 1;"
   ]
  },
  {
   "cell_type": "code",
   "execution_count": 68,
   "metadata": {
    "collapsed": false
   },
   "outputs": [],
   "source": [
    "@time 1;"
   ]
  },
  {
   "cell_type": "markdown",
   "metadata": {},
   "source": [
    "Las dos ejecuciones anteriores muestran que, al compilar (primer ejecución), julia utiliza espacio de memoria; una vez compiladas las cosas, el uso de memoria disminuye de manera importante. Incidentalmente, el uso exagerado de memoria muestra que las cosas pueden ser hechas de mejor manera..."
   ]
  },
  {
   "cell_type": "code",
   "execution_count": 69,
   "metadata": {
    "collapsed": false
   },
   "outputs": [],
   "source": [
    "@time compute_roots();"
   ]
  },
  {
   "cell_type": "code",
   "execution_count": 70,
   "metadata": {
    "collapsed": false
   },
   "outputs": [
    {
     "data": {
      "text/plain": [
       "321-element Array{Float64,1}:\n",
       " -1.41421\n",
       " -1.41421\n",
       " -1.41421\n",
       " -1.41421\n",
       " -1.41421\n",
       " -1.41421\n",
       " -1.41421\n",
       " -1.41421\n",
       " -1.41421\n",
       " -1.41421\n",
       " -1.41421\n",
       " -1.41421\n",
       " -1.41421\n",
       "  ⋮      \n",
       "  1.41421\n",
       "  1.41421\n",
       "  1.41421\n",
       "  1.41421\n",
       "  1.41421\n",
       "  1.41421\n",
       "  1.41421\n",
       "  1.41421\n",
       "  1.41421\n",
       "  1.41421\n",
       "  1.41421\n",
       "  1.41421"
      ]
     },
     "execution_count": 70,
     "metadata": {},
     "output_type": "execute_result"
    }
   ],
   "source": [
    "@time compute_roots();  # como `compute_roots` ya está compilada, no hay mucho cambio en el\n",
    "                        # tiempo de ejecución o memoria usada"
   ]
  },
  {
   "cell_type": "markdown",
   "metadata": {},
   "source": [
    "## Funciones genéricas"
   ]
  },
  {
   "cell_type": "markdown",
   "metadata": {},
   "source": [
    "Lo que hemos hecho hasta ahora está bien, pero *no* es muy genérico, en el sentido de que no es muy cómodo la implementación si queremos considerar distintas funciones `f(x)`.\n",
    "\n",
    "Para esto, *definimos* el siguiente *método* para la función `compute_roots`; noten que es el mismo nombre de la función que definimos antes."
   ]
  },
  {
   "cell_type": "code",
   "execution_count": 71,
   "metadata": {
    "collapsed": false
   },
   "outputs": [
    {
     "data": {
      "text/plain": [
       "compute_roots (generic function with 3 methods)"
      ]
     },
     "execution_count": 71,
     "metadata": {},
     "output_type": "execute_result"
    }
   ],
   "source": [
    "function compute_roots(f, f´)\n",
    "    initial_conditions = -20:0.125:20\n",
    "    roots = similar(initial_conditions)\n",
    "\n",
    "    for (j, x_0) in enumerate(initial_conditions)\n",
    "        x = x_0\n",
    "\n",
    "        # 100 iterations of Newton's method\n",
    "        for i in 1:100\n",
    "            x = x - f(x) / f´(x)\n",
    "        end\n",
    "\n",
    "        roots[j] = x\n",
    "    end\n",
    "    \n",
    "    roots\n",
    "end"
   ]
  },
  {
   "cell_type": "markdown",
   "metadata": {},
   "source": [
    "Es importante notar que, ahora, tenemos 2 métodos definidos para la *misma* función `compute_roots`. Esto es, **no** hemos sobreescrito la función `compute_roots`, sino que hemos creado un nuevo método. \n",
    "\n",
    "Los métodos se distinguen por el tipo de argumentos de la función: en un caso *no* hay ningún argumento, mientras que en el otro hay dos argumentos.\n",
    "\n",
    "La instrucción `methods` ayuda a saber cuántos métodos hay asociados a una función, incluyendo información sobre el tipo de los parámetros; esto último es la \"signatura de tipo\" (*type signature*)."
   ]
  },
  {
   "cell_type": "code",
   "execution_count": 72,
   "metadata": {
    "collapsed": false
   },
   "outputs": [
    {
     "data": {
      "text/html": [
       "3 methods for generic function <b>compute_roots</b>:<ul><li> compute_roots() at In[64]:9<li> compute_roots(f, f´) at In[71]:2<li> compute_roots(f, f´, ri, rf) at In[42]:11</ul>"
      ],
      "text/plain": [
       "# 3 methods for generic function \"compute_roots\":\n",
       "compute_roots() at In[64]:9\n",
       "compute_roots(f, f´) at In[71]:2\n",
       "compute_roots(f, f´, ri, rf) at In[42]:11"
      ]
     },
     "execution_count": 72,
     "metadata": {},
     "output_type": "execute_result"
    }
   ],
   "source": [
    "methods(compute_roots)"
   ]
  },
  {
   "cell_type": "markdown",
   "metadata": {},
   "source": [
    "**Ejercicio 2:** ¿De qué tipo son las variables f y f´?"
   ]
  },
  {
   "cell_type": "code",
   "execution_count": null,
   "metadata": {
    "collapsed": true
   },
   "outputs": [],
   "source": []
  },
  {
   "cell_type": "markdown",
   "metadata": {},
   "source": [
    "Ejecutamos ahora la nueva implementación de las funciones:"
   ]
  },
  {
   "cell_type": "code",
   "execution_count": 73,
   "metadata": {
    "collapsed": false
   },
   "outputs": [],
   "source": [
    "@time compute_roots(f, f´);"
   ]
  },
  {
   "cell_type": "code",
   "execution_count": 74,
   "metadata": {
    "collapsed": false
   },
   "outputs": [
    {
     "name": "stdout",
     "output_type": "stream",
     "text": [
      "compute_roots\n",
      "\n",
      "  0.000001 seconds (3 allocations: 144 bytes)\n",
      "  0.000001 seconds (4 allocations: 160 bytes)\n",
      "  0.000330 seconds (6 allocations: 2.766 KB)\n",
      "  0.000327 seconds (6 allocations: 2.766 KB)\n",
      "  0.022792 seconds (135.97 k allocations: 2.291 MB)\n",
      "  "
     ]
    }
   ],
   "source": [
    "@time compute_roots(f, f´);"
   ]
  },
  {
   "cell_type": "markdown",
   "metadata": {},
   "source": [
    "Vale la pena notar que, la vieja implementación es más rápida que la nueva, incluyendo un mejor uso de la memoria. Esto se debe a que Julia v0.4 *no* sabe cómo inferir el resultado de $f$ y $f'$, cuando son pasadas como argumento de una función; esto cambia y se vuelve más eficiente en Julia v0.5. "
   ]
  },
  {
   "cell_type": "markdown",
   "metadata": {},
   "source": [
    "Como vimos anteriormente, la manera de notar que `compute_roots(f,f´)` va a dar problemas se obtiene usando el macro `@code_warntype`. \n",
    "\n",
    "En las siguientes dos ejecuciones, vale la pena *notar* en el apartado de variables que la variable `x` en un caso es un `Float64` y en el otro es `Any`, respectivamente para `compute_roots()` y `compute_roots(f,f´)`; obtener `Any` es *mala señal*:"
   ]
  },
  {
   "cell_type": "code",
   "execution_count": 75,
   "metadata": {
    "collapsed": false
   },
   "outputs": [],
   "source": [
    "@code_warntype(compute_roots())"
   ]
  },
  {
   "cell_type": "code",
   "execution_count": 76,
   "metadata": {
    "collapsed": false
   },
   "outputs": [],
   "source": [
    "@code_warntype(compute_roots(f, f´))"
   ]
  },
  {
   "cell_type": "markdown",
   "metadata": {},
   "source": [
    "Otra manera de hacer esto mismo, pero usando funciones anónimas es la siguiente:"
   ]
  },
  {
   "cell_type": "code",
   "execution_count": 77,
   "metadata": {
    "collapsed": false
   },
   "outputs": [
    {
     "name": "stdout",
     "output_type": "stream",
     "text": [
      "0.005445 seconds (129.05 k allocations: 1.972 MB)\n",
      "Variables:\n",
      "  initial_conditions::FloatRange{Float64}\n",
      "  roots::Array{Float64,1}\n",
      "  #s41::Tuple{Int64,Int64}\n",
      "  j::Int64\n",
      "  x_0::Float64\n",
      "  #s40::Int64\n",
      "  x::Float64\n",
      "  #s39::Int64\n",
      "  i::Int64\n",
      "  ######xs#7430#7438#8603::Tuple{Float64,Int64}\n",
      "  ########xs#7429#7431#7439#8604::Tuple{Int64}\n",
      "  ######xs#7432#7440#8605::Tuple{Float64,Int64}\n",
      "  ########xs#7429#7433#7441#8606::Tuple{Int64}\n",
      "  ######xs#7434#7442#8607::Tuple{Float64,Int64}\n",
      "  ########xs#7429#7435#7443#8608::Tuple{Int64}\n",
      "  ##n#8609::Tuple{Float64,Int64}\n",
      "\n",
      "Body:\n",
      "  begin  # In[64], line 9:\n",
      "      initial_conditions = (Base.colon)((Base.box)(Float64,(Base.sitofp)(Float64,-20)::ANY)::Float64,0.125,(Base.box)(Float64,(Base.sitofp)(Float64,20)::ANY)::Float64)::FloatRange{Float64} # In[64], line 10:\n",
      "      roots = (top(ccall))(:jl_new_array,(top(apply_type))(Base.Array,Float64,1)::Type{Array{Float64,1}},(top(svec))(Base.Any,Base.Any)::SimpleVector,Array{Float64,1},0,(top(tuple))((Base.box)(Int64,(Base.checked_fptosi)(Int64,(top(getfield))(initial_conditions::FloatRange{Float64},:len)::Float64)::ANY)::Int64)::Tuple{Int64},0)::Array{Float64,1} # In[64], line 12:\n",
      "      GenSym(4) = $(Expr(:new, Enumerate{FloatRange{Float64}}, :(initial_conditions::FloatRange{Float64})))\n",
      "      #s41 = (top(tuple))(1,0)::Tuple{Int64,Int64}\n",
      "      unless (Base.box)(Base.Bool,(Base.not_int)((Base.sle_int)((Base.box)(Int64,(Base.checked_fptosi)(Int64,(top(getfield))((top(getfield))(GenSym(4),:itr)::FloatRange{Float64},:len)::Float64)::ANY)::Int64,(Base.getfield)(#s41::Tuple{Int64,Int64},2)::Int64)::Bool)::ANY)::Bool goto 1\n",
      "      2: \n",
      "      GenSym(12) = (top(getfield))(GenSym(4),:itr)::FloatRange{Float64}\n",
      "      GenSym(11) = (Base.getfield)(#s41::Tuple{Int64,Int64},2)::Int64\n",
      "      ##n#8609 = (top(tuple))((Base.box)(Base.Float64,(Base.div_float)((Base.box)(Base.Float64,(Base.add_float)((top(getfield))(GenSym(12),:start)::Float64,(Base.box)(Base.Float64,(Base.mul_float)((Base.box)(Float64,(Base.sitofp)(Float64,GenSym(11))::ANY)::Float64,(top(getfield))(GenSym(12),:step)::Float64)::ANY)::Float64)::ANY)::Float64,(top(getfield))(GenSym(12),:divisor)::Float64)::ANY)::Float64,(Base.box)(Base.Int,(Base.add_int)(GenSym(11),1)::ANY)::Int64)::Tuple{Float64,Int64}\n",
      "      GenSym(13) = (top(tuple))((Base.getfield)(#s41::Tuple{Int64,Int64},1)::Int64,(Base.getfield)(##n#8609::Tuple{Float64,Int64},1)::Float64)::Tuple{Int64,Float64}\n",
      "      GenSym(14) = (top(tuple))((Base.box)(Base.Int,(Base.add_int)((Base.getfield)(#s41::Tuple{Int64,Int64},1)::Int64,1)::ANY)::Int64,(Base.getfield)(##n#8609::Tuple{Float64,Int64},2)::Int64)::Tuple{Int64,Int64}\n",
      "      GenSym(6) = GenSym(13)\n",
      "      #s40 = 1\n",
      "      GenSym(15) = (Base.getfield)(GenSym(6),1)::UNION{FLOAT64,INT64}\n",
      "      GenSym(16) = (Base.box)(Base.Int,(Base.add_int)(1,1)::ANY)::Int64\n",
      "      j = GenSym(15)\n",
      "      #s40 = GenSym(16)\n",
      "      GenSym(17) = (Base.getfield)(GenSym(6),2)::UNION{FLOAT64,INT64}\n",
      "      GenSym(18) = (Base.box)(Base.Int,(Base.add_int)(2,1)::ANY)::Int64\n",
      "      x_0 = GenSym(17)\n",
      "      #s40 = GenSym(18)\n",
      "      #s41 = GenSym(14) # In[64], line 13:\n",
      "      x = x_0::Float64 # In[64], line 16:\n",
      "      GenSym(9) = $(Expr(:new, UnitRange{Int64}, 1, :(((top(getfield))(Base.Intrinsics,:select_value)::I)((Base.sle_int)(1,100)::Bool,100,(Base.box)(Int64,(Base.sub_int)(1,1))::Int64)::Int64)))\n",
      "      #s39 = (top(getfield))(GenSym(9),:start)::Int64\n",
      "      unless (Base.box)(Base.Bool,(Base.not_int)(#s39::Int64 === (Base.box)(Base.Int,(Base.add_int)((top(getfield))(GenSym(9),:stop)::Int64,1)::ANY)::Int64::Bool)::ANY)::Bool goto 5\n",
      "      6: \n",
      "      GenSym(19) = #s39::Int64\n",
      "      GenSym(20) = (Base.box)(Base.Int,(Base.add_int)(#s39::Int64,1)::ANY)::Int64\n",
      "      i = GenSym(19)\n",
      "      #s39 = GenSym(20) # In[64], line 17:\n",
      "      x = (Base.box)(Base.Float64,(Base.sub_float)(x::Float64,(Base.box)(Base.Float64,(Base.div_float)((Base.box)(Base.Float64,(Base.sub_float)((Base.box)(Base.Float64,(Base.mul_float)(x::Float64,x::Float64)::ANY)::Float64,2.0)::ANY)::Float64,(Base.box)(Base.Float64,(Base.mul_float)((Base.box)(Float64,(Base.sitofp)(Float64,2)::ANY)::Float64,x::Float64)::ANY)::Float64)::ANY)::Float64)::ANY)::Float64\n",
      "      7: \n",
      "      unless (Base.box)(Base.Bool,(Base.not_int)((Base.box)(Base.Bool,(Base.not_int)(#s39::Int64 === (Base.box)(Base.Int,(Base.add_int)((top(getfield))(GenSym(9),:stop)::Int64,1)::ANY)::Int64::Bool)::ANY)::Bool)::ANY)::Bool goto 6\n",
      "      5: \n",
      "      4:  # In[64], line 20:\n",
      "      (Base.arrayset)(roots::Array{Float64,1},x::Float64,j::Int64)::Array{Float64,1}\n",
      "      3: \n",
      "      unless (Base.box)(Base.Bool,(Base.not_int)((Base.box)(Base.Bool,(Base.not_int)((Base.sle_int)((Base.box)(Int64,(Base.checked_fptosi)(Int64,(top(getfield))((top(getfield))(GenSym(4),:itr)::FloatRange{Float64},:len)::Float64)::ANY)::Int64,(Base.getfield)(#s41::Tuple{Int64,Int64},2)::Int64)::Bool)::ANY)::Bool)::ANY)::Bool goto 2\n",
      "      1: \n",
      "      0:  # In[64], line 23:\n",
      "      return roots::Array{Float64,1}\n",
      "  end::Array{Float64,1}\n",
      "Variables:\n",
      "  f::F\n",
      "  f´::F\n",
      "  initial_conditions::FloatRange{Float64}\n",
      "  roots::Array{Float64,1}\n",
      "  #s41::Tuple{Int64,Int64}\n",
      "  j::Int64\n",
      "  x_0::Float64\n",
      "  #s40::Int64\n",
      "  x::ANY\n",
      "  #s39::Int64\n",
      "  i::Int64\n",
      "  ######xs#7430#7438#8610::Tuple{Float64,Int64}\n",
      "  ########xs#7429#7431#7439#8611::Tuple{Int64}\n",
      "  ######xs#7432#7440#8612::Tuple{Float64,Int64}\n",
      "  ########xs#7429#7433#7441#8613::Tuple{Int64}\n",
      "  ######xs#7434#7442#8614::Tuple{Float64,Int64}\n",
      "  ########xs#7429#7435#7443#8615::Tuple{Int64}\n",
      "  ##n#8616::Tuple{Float64,Int64}\n",
      "\n",
      "Body:\n",
      "  begin  # In[71], line 2:\n",
      "      initial_conditions = (Base.colon)((Base.box)(Float64,(Base.sitofp)(Float64,-20)::ANY)::Float64,0.125,(Base.box)(Float64,(Base.sitofp)(Float64,20)::ANY)::Float64)::FloatRange{Float64} # In[71], line 3:\n",
      "      roots = (top(ccall))(:jl_new_array,(top(apply_type))(Base.Array,Float64,1)::Type{Array{Float64,1}},(top(svec))(Base.Any,Base.Any)::SimpleVector,Array{Float64,1},0,(top(tuple))((Base.box)(Int64,(Base.checked_fptosi)(Int64,(top(getfield))(initial_conditions::FloatRange{Float64},:len)::Float64)::ANY)::Int64)::Tuple{Int64},0)::Array{Float64,1} # In[71], line 5:\n",
      "      GenSym(0) = $(Expr(:new, Enumerate{FloatRange{Float64}}, :(initial_conditions::FloatRange{Float64})))\n",
      "      #s41 = (top(tuple))(1,0)::Tuple{Int64,Int64}\n",
      "      unless (Base.box)(Base.Bool,(Base.not_int)((Base.sle_int)((Base.box)(Int64,(Base.checked_fptosi)(Int64,(top(getfield))((top(getfield))(GenSym(0),:itr)::FloatRange{Float64},:len)::Float64)::ANY)::Int64,(Base.getfield)(#s41::Tuple{Int64,Int64},2)::Int64)::Bool)::ANY)::Bool goto 1\n",
      "      2: \n",
      "      GenSym(8) = (top(getfield))(GenSym(0),:itr)::FloatRange{Float64}\n",
      "      GenSym(7) = (Base.getfield)(#s41::Tuple{Int64,Int64},2)::Int64\n",
      "      ##n#8616 = (top(tuple))((Base.box)(Base.Float64,(Base.div_float)((Base.box)(Base.Float64,(Base.add_float)((top(getfield))(GenSym(8),:start)::Float64,(Base.box)(Base.Float64,(Base.mul_float)((Base.box)(Float64,(Base.sitofp)(Float64,GenSym(7))::ANY)::Float64,(top(getfield))(GenSym(8),:step)::Float64)::ANY)::Float64)::ANY)::Float64,(top(getfield))(GenSym(8),:divisor)::Float64)::ANY)::Float64,(Base.box)(Base.Int,(Base.add_int)(GenSym(7),1)::ANY)::Int64)::Tuple{Float64,Int64}\n",
      "      GenSym(9) = (top(tuple))((Base.getfield)(#s41::Tuple{Int64,Int64},1)::Int64,(Base.getfield)(##n#8616::Tuple{Float64,Int64},1)::Float64)::Tuple{Int64,Float64}\n",
      "      GenSym(10) = (top(tuple))((Base.box)(Base.Int,(Base.add_int)((Base.getfield)(#s41::Tuple{Int64,Int64},1)::Int64,1)::ANY)::Int64,(Base.getfield)(##n#8616::Tuple{Float64,Int64},2)::Int64)::Tuple{Int64,Int64}\n",
      "      GenSym(2) = GenSym(9)\n",
      "      #s40 = 1\n",
      "      GenSym(11) = (Base.getfield)(GenSym(2),1)::UNION{FLOAT64,INT64}\n",
      "      GenSym(12) = (Base.box)(Base.Int,(Base.add_int)(1,1)::ANY)::Int64\n",
      "      j = GenSym(11)\n",
      "      #s40 = GenSym(12)\n",
      "      GenSym(13) = (Base.getfield)(GenSym(2),2)::UNION{FLOAT64,INT64}\n",
      "      GenSym(14) = (Base.box)(Base.Int,(Base.add_int)(2,1)::ANY)::Int64\n",
      "      x_0 = GenSym(13)\n",
      "      #s40 = GenSym(14)\n",
      "      #s41 = GenSym(10) # In[71], line 6:\n",
      "      x = x_0::Float64 # In[71], line 9:\n",
      "      GenSym(5) = $(Expr(:new, UnitRange{Int64}, 1, :(((top(getfield))(Base.Intrinsics,:select_value)::I)((Base.sle_int)(1,100)::Bool,100,(Base.box)(Int64,(Base.sub_int)(1,1))::Int64)::Int64)))\n",
      "      #s39 = (top(getfield))(GenSym(5),:start)::Int64\n",
      "      unless (Base.box)(Base.Bool,(Base.not_int)(#s39::Int64 === (Base.box)(Base.Int,(Base.add_int)((top(getfield))(GenSym(5),:stop)::Int64,1)::ANY)::Int64::Bool)::ANY)::Bool goto 5\n",
      "      6: \n",
      "      GenSym(15) = #s39::Int64\n",
      "      GenSym(16) = (Base.box)(Base.Int,(Base.add_int)(#s39::Int64,1)::ANY)::Int64\n",
      "      i = GenSym(15)\n",
      "      #s39 = GenSym(16) # In[71], line 10:\n",
      "      x = x - (f::F)(x)::ANY / (f´::F)(x)::ANY::ANY::ANY\n",
      "      7: \n",
      "      unless (Base.box)(Base.Bool,(Base.not_int)((Base.box)(Base.Bool,(Base.not_int)(#s39::Int64 === (Base.box)(Base.Int,(Base.add_int)((top(getfield))(GenSym(5),:stop)::Int64,1)::ANY)::Int64::Bool)::ANY)::Bool)::ANY)::Bool goto 6\n",
      "      5: \n",
      "      4:  # In[71], line 13:\n",
      "      (Base.arrayset)(roots::Array{Float64,1},(top(typeassert))((Base.convert)(Float64,x)::ANY,Float64)::Float64,j::Int64)::Array{Float64,1}\n",
      "      3: \n",
      "      unless (Base.box)(Base.Bool,(Base.not_int)((Base.box)(Base.Bool,(Base.not_int)((Base.sle_int)((Base.box)(Int64,(Base.checked_fptosi)(Int64,(top(getfield))((top(getfield))(GenSym(0),:itr)::FloatRange{Float64},:len)::Float64)::ANY)::Int64,(Base.getfield)(#s41::Tuple{Int64,Int64},2)::Int64)::Bool)::ANY)::Bool)::ANY)::Bool goto 2\n",
      "      1: \n",
      "      0:  # In[71], line 16:\n",
      "      return roots::Array{Float64,1}\n",
      "  end::Array{Float64,1}\n",
      "  "
     ]
    }
   ],
   "source": [
    "@time compute_roots(x->x^2-2, x->2x);"
   ]
  },
  {
   "cell_type": "code",
   "execution_count": 78,
   "metadata": {
    "collapsed": false
   },
   "outputs": [],
   "source": [
    "@time compute_roots(x->x^2-2, x->2x);"
   ]
  },
  {
   "cell_type": "markdown",
   "metadata": {},
   "source": [
    "En este momento (versión 0.4 de Julia), las funciones anónimas son aún lentas, pero se pueden hacer trucos para que funcionen mejor. Esto tiene que ver con el hecho de que Julia no sabe el tipo de resultado de las funciones anónimas, en el momento de compilar la función.\n",
    "\n",
    "Hagamos otro ejemplo un poco más interesante:"
   ]
  },
  {
   "cell_type": "code",
   "execution_count": 79,
   "metadata": {
    "collapsed": false
   },
   "outputs": [],
   "source": [
    "@time roots = compute_roots( x -> (x-1)*(x-2)*(x-3), x->(x-2)*(x-3)+(x-1)*(x-3)+(x-1)*(x-2) );"
   ]
  },
  {
   "cell_type": "code",
   "execution_count": 80,
   "metadata": {
    "collapsed": false
   },
   "outputs": [
    {
     "name": "stdout",
     "output_type": "stream",
     "text": [
      "0.011656 seconds (161.19 k allocations: 2.464 MB)\n",
      "  0.011631 seconds (161.19 k allocations: 2.464 MB)\n",
      "  0.034103 seconds (514.31 k allocations: 7.854 MB)\n",
      "  "
     ]
    }
   ],
   "source": [
    "@time roots = compute_roots( x -> (x-1)*(x-2)*(x-3), x->(x-2)*(x-3)+(x-1)*(x-3)+(x-1)*(x-2) );"
   ]
  },
  {
   "cell_type": "code",
   "execution_count": 82,
   "metadata": {
    "collapsed": false
   },
   "outputs": [
    {
     "data": {
      "image/png": "[encoded data removed]",
      "text/plain": [
       "PyPlot.Figure(PyObject <matplotlib.figure.Figure object at 0x7f983ea22350>)"
      ]
     },
     "metadata": {},
     "output_type": "display_data"
    },
    {
     "data": {
      "text/plain": [
       "(0,4)"
      ]
     },
     "execution_count": 82,
     "metadata": {},
     "output_type": "execute_result"
    }
   ],
   "source": [
    "figure(figsize=(6,4))\n",
    "plot(-20:0.125:20, roots)\n",
    "ylim(0,4)"
   ]
  },
  {
   "cell_type": "code",
   "execution_count": 83,
   "metadata": {
    "collapsed": false
   },
   "outputs": [
    {
     "data": {
      "image/png": "[encoded data removed]",
      "text/plain": [
       "PyPlot.Figure(PyObject <matplotlib.figure.Figure object at 0x7f983e3d2b50>)"
      ]
     },
     "metadata": {},
     "output_type": "display_data"
    },
    {
     "data": {
      "text/plain": [
       "(1,3)"
      ]
     },
     "execution_count": 83,
     "metadata": {},
     "output_type": "execute_result"
    }
   ],
   "source": [
    "figure(figsize=(6,4))\n",
    "plot(-20:0.125:20, roots, \"g.-\")\n",
    "ylim(0,4)\n",
    "xlim(1,3)"
   ]
  },
  {
   "cell_type": "markdown",
   "metadata": {},
   "source": [
    "**Ejercicio 3:** Modificar y documentar (!) la función `compute_roots` de tal manera que la condición inicial sea un rango arbitrario que el usuario da a la entrada.\n",
    "\n",
    "Usando esta función, ¿cómo se ve las raíces a las que converge la iteración del método de Newton para $f(x) = (x-1)(x-2)(x-3)$? En este caso vale la pena concentrarse en valores $x_0\\in [1,3]$, usar muchos puntos y quizás hacer observar localmente la estructura."
   ]
  },
  {
   "cell_type": "code",
   "execution_count": 116,
   "metadata": {
    "collapsed": false
   },
   "outputs": [
    {
     "data": {
      "text/plain": [
       "compute_roots (generic function with 5 methods)"
      ]
     },
     "execution_count": 116,
     "metadata": {},
     "output_type": "execute_result"
    }
   ],
   "source": [
    "\"\"\"\n",
    "    compute_roots()\n",
    "\n",
    "This function computes the roots of `f(x)` (which must be defined before) \n",
    "for different initial iterates in the range given by the user, and returns them \n",
    "packed in a vector.\n",
    "\n",
    "\"\"\"\n",
    "\n",
    "function compute_roots(f, f´,initial_conditions)\n",
    " #   initial_conditions = ri:(1/2^n):rf\n",
    "    roots = similar(initial_conditions)\n",
    "\n",
    "    for (j, x_0) in enumerate(initial_conditions)\n",
    "        x = x_0\n",
    "\n",
    "        # 100 iterations of Newton's method\n",
    "        for i in 1:100\n",
    "            x = x - f(x) / f´(x)\n",
    "        end\n",
    "\n",
    "        roots[j] = x\n",
    "    end\n",
    "    \n",
    "    initial_conditions , roots\n",
    "end"
   ]
  },
  {
   "cell_type": "code",
   "execution_count": 117,
   "metadata": {
    "collapsed": false
   },
   "outputs": [
    {
     "data": {
      "text/plain": [
       "0.0625"
      ]
     },
     "execution_count": 117,
     "metadata": {},
     "output_type": "execute_result"
    }
   ],
   "source": [
    "1/16"
   ]
  },
  {
   "cell_type": "code",
   "execution_count": 118,
   "metadata": {
    "collapsed": false
   },
   "outputs": [
    {
     "name": "stdout",
     "output_type": "stream",
     "text": [
      "search: "
     ]
    },
    {
     "data": {
      "text/latex": [
       "\\begin{verbatim}\n",
       "compute_roots()\n",
       "\\end{verbatim}\n",
       "This function computes the roots of \\texttt{f(x)} (which must be defined before)  for different initial iterates in the range given by the user, and returns them  packed in a vector.\n",
       "\\begin{verbatim}\n",
       "compute_roots()\n",
       "\\end{verbatim}\n",
       "This function computes the roots of \\texttt{f(x)} (which must be defined before)  for different initial iterates in the range given by the user, and returns them  packed in a vector.\n",
       "\\begin{verbatim}\n",
       "compute_roots()\n",
       "\\end{verbatim}\n",
       "This function computes the roots of \\texttt{f(x)} (which must be defined before)  for different initial iterates in the range given by the user, and returns them  packed in a vector.\n",
       "\\begin{verbatim}\n",
       "compute_roots()\n",
       "\\end{verbatim}\n",
       "This function computes the roots of \\texttt{f(x)} (which must be defined before)  for different initial iterates in the range [-20,20], and returns them  packed in a vector.\n"
      ],
      "text/markdown": [
       "```\n",
       "compute_roots()\n",
       "```\n",
       "\n",
       "This function computes the roots of `f(x)` (which must be defined before)  for different initial iterates in the range given by the user, and returns them  packed in a vector.\n",
       "\n",
       "```\n",
       "compute_roots()\n",
       "```\n",
       "\n",
       "This function computes the roots of `f(x)` (which must be defined before)  for different initial iterates in the range given by the user, and returns them  packed in a vector.\n",
       "\n",
       "```\n",
       "compute_roots()\n",
       "```\n",
       "\n",
       "This function computes the roots of `f(x)` (which must be defined before)  for different initial iterates in the range given by the user, and returns them  packed in a vector.\n",
       "\n",
       "```\n",
       "compute_roots()\n",
       "```\n",
       "\n",
       "This function computes the roots of `f(x)` (which must be defined before)  for different initial iterates in the range [-20,20], and returns them  packed in a vector.\n"
      ],
      "text/plain": [
       "```\n",
       "compute_roots()\n",
       "```\n",
       "\n",
       "This function computes the roots of `f(x)` (which must be defined before)  for different initial iterates in the range given by the user, and returns them  packed in a vector.\n",
       "\n",
       "```\n",
       "compute_roots()\n",
       "```\n",
       "\n",
       "This function computes the roots of `f(x)` (which must be defined before)  for different initial iterates in the range given by the user, and returns them  packed in a vector.\n",
       "\n",
       "```\n",
       "compute_roots()\n",
       "```\n",
       "\n",
       "This function computes the roots of `f(x)` (which must be defined before)  for different initial iterates in the range given by the user, and returns them  packed in a vector.\n",
       "\n",
       "```\n",
       "compute_roots()\n",
       "```\n",
       "\n",
       "This function computes the roots of `f(x)` (which must be defined before)  for different initial iterates in the range [-20,20], and returns them  packed in a vector.\n"
      ]
     },
     "execution_count": 118,
     "metadata": {},
     "output_type": "execute_result"
    },
    {
     "name": "stdout",
     "output_type": "stream",
     "text": [
      "compute_roots\n",
      "\n"
     ]
    }
   ],
   "source": [
    "?compute_roots"
   ]
  },
  {
   "cell_type": "code",
   "execution_count": 131,
   "metadata": {
    "collapsed": false
   },
   "outputs": [
    {
     "data": {
      "text/plain": [
       "(1.545:3.814697265625e-6:1.554998321533203,[1.0,1.0,1.0,1.0,1.0,1.0,1.0,1.0,1.0,1.0  …  2.0,2.0,2.0,2.0,2.0,2.0,2.0,2.0,2.0,2.0])"
      ]
     },
     "execution_count": 131,
     "metadata": {},
     "output_type": "execute_result"
    }
   ],
   "source": [
    "I_C,roots = compute_roots(x -> (x-1)*(x-2)*(x-3), x->(x-2)*(x-3)+(x-1)*(x-3)+(x-1)*(x-2) , 1.545:1/2^18:1.555)"
   ]
  },
  {
   "cell_type": "code",
   "execution_count": 132,
   "metadata": {
    "collapsed": false
   },
   "outputs": [
    {
     "data": {
      "image/png": "[encoded data removed]",
      "text/plain": [
       "PyPlot.Figure(PyObject <matplotlib.figure.Figure object at 0x7f983db5de10>)"
      ]
     },
     "metadata": {},
     "output_type": "display_data"
    },
    {
     "data": {
      "text/plain": [
       "(1.545,1.555)"
      ]
     },
     "execution_count": 132,
     "metadata": {},
     "output_type": "execute_result"
    }
   ],
   "source": [
    "figure(figsize=(6,4))\n",
    "plot(I_C, roots, \"g.-\")\n",
    "ylim(0,4)\n",
    "xlim(1.545,1.555)"
   ]
  },
  {
   "cell_type": "markdown",
   "metadata": {},
   "source": [
    "## El método de Newton sobre los complejos"
   ]
  },
  {
   "cell_type": "markdown",
   "metadata": {},
   "source": [
    "Ahora, implementaremos el método de Newton, para alguna función modelo ($f(z) = z^3-1$), pero usaremos condiciones iniciales en los complejos.\n",
    "\n",
    "Las condiciones iniciales, igual que antes, las definiremos a partir de un `FloatRange{Float64}`, que usaremos tanto para la parte real como para la parte imaginaria de $z_0$."
   ]
  },
  {
   "cell_type": "markdown",
   "metadata": {},
   "source": [
    "A priori podríamos proceder como antes. Sin embargo, hay *sutilezas*, ya que la salida `roots` no será un vector, sino una matriz."
   ]
  },
  {
   "cell_type": "code",
   "execution_count": 136,
   "metadata": {
    "collapsed": false
   },
   "outputs": [
    {
     "data": {
      "text/plain": [
       "f´ (generic function with 1 method)"
      ]
     },
     "execution_count": 136,
     "metadata": {},
     "output_type": "execute_result"
    }
   ],
   "source": [
    "const cc = complex(1.0,0.0)\n",
    "\n",
    "f(z) = z^3 - cc\n",
    "f´(z) = 3*z^2"
   ]
  },
  {
   "cell_type": "markdown",
   "metadata": {},
   "source": [
    "**NOTA**: La siguiente función necesita las funciones $f$ y $f'$, lo que permite usarlas en contextos más generales. Esto, como vimos antes, tiene una penalización en la ejecución."
   ]
  },
  {
   "cell_type": "code",
   "execution_count": 137,
   "metadata": {
    "collapsed": false
   },
   "outputs": [
    {
     "data": {
      "text/plain": [
       "compute_complex_roots (generic function with 2 methods)"
      ]
     },
     "execution_count": 137,
     "metadata": {},
     "output_type": "execute_result"
    }
   ],
   "source": [
    "function compute_complex_roots(f, f´, range=-5.0:0.125:5.0)  # default value\n",
    "\n",
    "    L = length(range)\n",
    "    \n",
    "    ## Se define la matriz con todos los elementos inicialmente en cero\n",
    "    roots = zeros(Complex128, L, L)  # set a matrix of appropriate length to zero\n",
    "\n",
    "    for (j, x) in enumerate(range)\n",
    "        for (i, y) in enumerate(range)\n",
    "            \n",
    "            z = x + y*im\n",
    "            \n",
    "            for k in 1:1000\n",
    "                z = z - f(z) / f´(z)\n",
    "            end\n",
    "            \n",
    "            roots[i,j] = z\n",
    "            \n",
    "        end\n",
    "    end\n",
    "    \n",
    "    roots\n",
    "end"
   ]
  },
  {
   "cell_type": "code",
   "execution_count": 138,
   "metadata": {
    "collapsed": false
   },
   "outputs": [
    {
     "name": "stdout",
     "output_type": "stream",
     "text": [
      "  0.047138 seconds (501.41 k allocations: 15.537 MB)\n"
     ]
    }
   ],
   "source": [
    "@time compute_complex_roots(f, f´, -5.0:1.0:5.0);"
   ]
  },
  {
   "cell_type": "code",
   "execution_count": 139,
   "metadata": {
    "collapsed": false
   },
   "outputs": [
    {
     "name": "stdout",
     "output_type": "stream",
     "text": [
      " 20"
     ]
    }
   ],
   "source": [
    "@time croots = compute_complex_roots(f, f´, -5.0:1/32:5.0);"
   ]
  },
  {
   "cell_type": "markdown",
   "metadata": {},
   "source": [
    "**Ejercicio 4:** Encuentren la implementación más rápida de `compute_complex_roots` considerando las dos opciones relacionadas con el ´rden en que aparecen los índices (i,j)en el doble ciclo.\n",
    "\n",
    "¿Por qué `compute_complex_roots` tiene 2 métodos definidos?"
   ]
  },
  {
   "cell_type": "code",
   "execution_count": null,
   "metadata": {
    "collapsed": true
   },
   "outputs": [],
   "source": []
  },
  {
   "cell_type": "markdown",
   "metadata": {},
   "source": [
    "Visualicemos los resultados: para esto usaremos `imshow`, que sirve para visualizar una matriz, y el código de colores lo definiremos a partir de la parte imaginaria de `roots`."
   ]
  },
  {
   "cell_type": "code",
   "execution_count": 140,
   "metadata": {
    "collapsed": false
   },
   "outputs": [
    {
     "data": {
      "image/png": "[encoded data removed]",
      "text/plain": [
       "PyPlot.Figure(PyObject <matplotlib.figure.Figure object at 0x7f983db25790>)"
      ]
     },
     "metadata": {},
     "output_type": "display_data"
    },
    {
     "data": {
      "text/plain": [
       "PyObject <matplotlib.image.AxesImage object at 0x7f983dc41f10>"
      ]
     },
     "execution_count": 140,
     "metadata": {},
     "output_type": "execute_result"
    },
    {
     "name": "stdout",
     "output_type": "stream",
     "text": [
      ".330736 seconds (412.37 M allocations: 12.291 GB, 6.98% gc time)\n"
     ]
    }
   ],
   "source": [
    "imshow(imag(croots))"
   ]
  },
  {
   "cell_type": "markdown",
   "metadata": {},
   "source": [
    "**NOTA** La librería `PyPlot` está basada en `matplotlib`; en la red hay muchos recursos para usar `matplotlib` y generar diversos tipos de gráficas."
   ]
  },
  {
   "cell_type": "markdown",
   "metadata": {},
   "source": [
    "## Definición de nuevos tipos"
   ]
  },
  {
   "cell_type": "markdown",
   "metadata": {},
   "source": [
    "Ahora veremos cómo crear nuevos tipos. Esto es algo impresionantemente útil, ya que permite definir un arreglo compacto de datos de interés. Dado que Julia se basa en el tipo, esto se traduce en velocidad."
   ]
  },
  {
   "cell_type": "markdown",
   "metadata": {},
   "source": [
    "A manera ilustrativa definiremos un nuevo tipo, que llamaremos `AuDiff`."
   ]
  },
  {
   "cell_type": "markdown",
   "metadata": {},
   "source": [
    "### Los campos de un `type`"
   ]
  },
  {
   "cell_type": "markdown",
   "metadata": {},
   "source": [
    "Para entender un poco más lo que significa definir un nuevo tipo, consideremos los números complejos:"
   ]
  },
  {
   "cell_type": "code",
   "execution_count": 141,
   "metadata": {
    "collapsed": false
   },
   "outputs": [
    {
     "data": {
      "text/plain": [
       "3 + 2im"
      ]
     },
     "execution_count": 141,
     "metadata": {},
     "output_type": "execute_result"
    }
   ],
   "source": [
    "z0 = complex(3,2) # Esto es *mejor* que z=3+2im"
   ]
  },
  {
   "cell_type": "code",
   "execution_count": 142,
   "metadata": {
    "collapsed": false
   },
   "outputs": [
    {
     "data": {
      "text/plain": [
       "Complex{Int64}"
      ]
     },
     "execution_count": 142,
     "metadata": {},
     "output_type": "execute_result"
    }
   ],
   "source": [
    "typeof(ans)"
   ]
  },
  {
   "cell_type": "markdown",
   "metadata": {},
   "source": [
    "La instrucción `fieldnames` da los campos internos de un tipo; vale la pena notar que el resultado consiste en un vector de *símbolos*. Estos símbolos son los nombres de los campos internos del tipo."
   ]
  },
  {
   "cell_type": "code",
   "execution_count": 143,
   "metadata": {
    "collapsed": false
   },
   "outputs": [
    {
     "data": {
      "text/plain": [
       "2-element Array{Symbol,1}:\n",
       " :re\n",
       " :im"
      ]
     },
     "execution_count": 143,
     "metadata": {},
     "output_type": "execute_result"
    }
   ],
   "source": [
    "fieldnames(z0)"
   ]
  },
  {
   "cell_type": "code",
   "execution_count": 144,
   "metadata": {
    "collapsed": false
   },
   "outputs": [
    {
     "data": {
      "text/plain": [
       "(3,2)"
      ]
     },
     "execution_count": 144,
     "metadata": {},
     "output_type": "execute_result"
    }
   ],
   "source": [
    "z0.re, z0.im"
   ]
  },
  {
   "cell_type": "code",
   "execution_count": 145,
   "metadata": {
    "collapsed": false
   },
   "outputs": [
    {
     "data": {
      "text/plain": [
       "Tuple{Int64,Int64}"
      ]
     },
     "execution_count": 145,
     "metadata": {},
     "output_type": "execute_result"
    }
   ],
   "source": [
    "typeof(ans)"
   ]
  },
  {
   "cell_type": "markdown",
   "metadata": {},
   "source": [
    "### Definición del tipo `AuDiff`"
   ]
  },
  {
   "cell_type": "markdown",
   "metadata": {},
   "source": [
    "La sintáxis básica para definir nuevos tipos es:"
   ]
  },
  {
   "cell_type": "code",
   "execution_count": 146,
   "metadata": {
    "collapsed": true
   },
   "outputs": [],
   "source": [
    "type AuDiff\n",
    "    fun :: Float64\n",
    "    der :: Float64\n",
    "end"
   ]
  },
  {
   "cell_type": "markdown",
   "metadata": {},
   "source": [
    "En la celda anterior, el doble dos-puntos `::` sirve para *anotar* el tipo de las variables internas. Esto es, `AuDiff` constará de dos componentes, `fun` y `der`, ambas del tipo `Float64`."
   ]
  },
  {
   "cell_type": "markdown",
   "metadata": {},
   "source": [
    "Por **convención**, las estructuras de tipo empiezan con una *mayúscula*; las funciones empiezan en *minúsculas*."
   ]
  },
  {
   "cell_type": "markdown",
   "metadata": {},
   "source": [
    "Veamos cuántos métodos hemos definido en torno a `AuDiff`:"
   ]
  },
  {
   "cell_type": "code",
   "execution_count": 147,
   "metadata": {
    "collapsed": false
   },
   "outputs": [
    {
     "data": {
      "text/plain": [
       "4-element Array{Any,1}:\n",
       " call(::Type{AuDiff}, fun::Float64, der::Float64) at In[146]:2\n",
       " call(::Type{AuDiff}, fun, der) at In[146]:2                  \n",
       " call{T}(::Type{T}, arg) at essentials.jl:56                  \n",
       " call{T}(::Type{T}, args...) at essentials.jl:57              "
      ]
     },
     "execution_count": 147,
     "metadata": {},
     "output_type": "execute_result"
    }
   ],
   "source": [
    "methods(AuDiff)"
   ]
  },
  {
   "cell_type": "markdown",
   "metadata": {},
   "source": [
    "Usando el resultado de `methods`, probamos con la función `call`:"
   ]
  },
  {
   "cell_type": "code",
   "execution_count": 148,
   "metadata": {
    "collapsed": false
   },
   "outputs": [
    {
     "data": {
      "text/plain": [
       "AuDiff(1.0,2.0)"
      ]
     },
     "execution_count": 148,
     "metadata": {},
     "output_type": "execute_result"
    }
   ],
   "source": [
    "call(AuDiff, 1.0, 2.0)"
   ]
  },
  {
   "cell_type": "code",
   "execution_count": 149,
   "metadata": {
    "collapsed": false
   },
   "outputs": [
    {
     "data": {
      "text/plain": [
       "AuDiff(1.0,2.0)"
      ]
     },
     "execution_count": 149,
     "metadata": {},
     "output_type": "execute_result"
    }
   ],
   "source": [
    "call(AuDiff, 1, 2)"
   ]
  },
  {
   "cell_type": "code",
   "execution_count": 150,
   "metadata": {
    "collapsed": false
   },
   "outputs": [
    {
     "data": {
      "text/plain": [
       "AuDiff(1.0,2.0)"
      ]
     },
     "execution_count": 150,
     "metadata": {},
     "output_type": "execute_result"
    }
   ],
   "source": [
    "call(AuDiff, (1, 2)...) # \"...\" es el 'splat' operator"
   ]
  },
  {
   "cell_type": "markdown",
   "metadata": {},
   "source": [
    "Los puntos suspensivos `...` implican que la *tupla* (1,2) será separada en sus componentes individuales, cada una considerada como un parámetro independiente."
   ]
  },
  {
   "cell_type": "markdown",
   "metadata": {},
   "source": [
    "**NOTA:** La función `call` de hecho es la forma genérica de crear cualquier tipo en Julia v0.4, pero se tornará obsoleta, por lo que no la usaremos. En cambio, usaremos la forma más explícita:"
   ]
  },
  {
   "cell_type": "code",
   "execution_count": 151,
   "metadata": {
    "collapsed": false
   },
   "outputs": [
    {
     "data": {
      "text/plain": [
       "AuDiff(1.0,4.0)"
      ]
     },
     "execution_count": 151,
     "metadata": {},
     "output_type": "execute_result"
    }
   ],
   "source": [
    "x = AuDiff(1, 4)"
   ]
  },
  {
   "cell_type": "code",
   "execution_count": 152,
   "metadata": {
    "collapsed": false
   },
   "outputs": [
    {
     "data": {
      "text/plain": [
       "AuDiff(5.0,6.0)"
      ]
     },
     "execution_count": 152,
     "metadata": {},
     "output_type": "execute_result"
    }
   ],
   "source": [
    "y = AuDiff(5, 6)"
   ]
  },
  {
   "cell_type": "code",
   "execution_count": 153,
   "metadata": {
    "collapsed": false
   },
   "outputs": [
    {
     "data": {
      "text/plain": [
       "2-element Array{Symbol,1}:\n",
       " :fun\n",
       " :der"
      ]
     },
     "execution_count": 153,
     "metadata": {},
     "output_type": "execute_result"
    }
   ],
   "source": [
    "fieldnames(AuDiff)"
   ]
  },
  {
   "cell_type": "code",
   "execution_count": 154,
   "metadata": {
    "collapsed": false
   },
   "outputs": [
    {
     "data": {
      "text/plain": [
       "1.0"
      ]
     },
     "execution_count": 154,
     "metadata": {},
     "output_type": "execute_result"
    }
   ],
   "source": [
    "x.fun"
   ]
  },
  {
   "cell_type": "markdown",
   "metadata": {},
   "source": [
    "Vale la pena notar que uno puede modificar los campos internos de un tipo:"
   ]
  },
  {
   "cell_type": "code",
   "execution_count": 155,
   "metadata": {
    "collapsed": false
   },
   "outputs": [
    {
     "data": {
      "text/plain": [
       "3.0"
      ]
     },
     "execution_count": 155,
     "metadata": {},
     "output_type": "execute_result"
    }
   ],
   "source": [
    "x.fun = 3"
   ]
  },
  {
   "cell_type": "code",
   "execution_count": 156,
   "metadata": {
    "collapsed": false
   },
   "outputs": [
    {
     "data": {
      "text/plain": [
       "AuDiff(3.0,4.0)"
      ]
     },
     "execution_count": 156,
     "metadata": {},
     "output_type": "execute_result"
    }
   ],
   "source": [
    "x"
   ]
  },
  {
   "cell_type": "markdown",
   "metadata": {},
   "source": [
    "**NOTA:** Uno también puede definir estructuras en que **no** sea posible modificar los valores internos; un ejemplo es `Rational`."
   ]
  },
  {
   "cell_type": "markdown",
   "metadata": {},
   "source": [
    "Sin importar mucho el significado de cada componente, la pregunta es si podemos sumar dos de ellos. Problemos:"
   ]
  },
  {
   "cell_type": "code",
   "execution_count": 157,
   "metadata": {
    "collapsed": false
   },
   "outputs": [
    {
     "ename": "LoadError",
     "evalue": "LoadError: MethodError: `+` has no method matching +(::AuDiff, ::AuDiff)\nClosest candidates are:\n  +(::Any, ::Any, !Matched::Any, !Matched::Any...)\nwhile loading In[157], in expression starting on line 1",
     "output_type": "error",
     "traceback": [
      "LoadError: MethodError: `+` has no method matching +(::AuDiff, ::AuDiff)\nClosest candidates are:\n  +(::Any, ::Any, !Matched::Any, !Matched::Any...)\nwhile loading In[157], in expression starting on line 1",
      ""
     ]
    }
   ],
   "source": [
    "x + y"
   ]
  },
  {
   "cell_type": "markdown",
   "metadata": {},
   "source": [
    "Julia nos arroja un error ya que *no* está definida la función `+` para los argumentos de tipo `AuDiff`; el mensaje de la primer línea es perfectamente claro.\n",
    "\n",
    "Entonces, dado que *no* está definido, y nos interesa usarlo, podemos simplemente definirlo. Por ejemplo, usando la siguiente definición:"
   ]
  },
  {
   "cell_type": "code",
   "execution_count": 158,
   "metadata": {
    "collapsed": false
   },
   "outputs": [
    {
     "name": "stderr",
     "output_type": "stream",
     "text": [
      "WARNING: module Main should explicitly import + from Base\n"
     ]
    },
    {
     "data": {
      "text/plain": [
       "+ (generic function with 175 methods)"
      ]
     },
     "execution_count": 158,
     "metadata": {},
     "output_type": "execute_result"
    }
   ],
   "source": [
    "+(a::AuDiff, b::AuDiff) = AuDiff(a.fun+b.fun, a.der+b.der)"
   ]
  },
  {
   "cell_type": "code",
   "execution_count": 159,
   "metadata": {
    "collapsed": false
   },
   "outputs": [
    {
     "data": {
      "text/plain": [
       "AuDiff(8.0,10.0)"
      ]
     },
     "execution_count": 159,
     "metadata": {},
     "output_type": "execute_result"
    }
   ],
   "source": [
    "x + y"
   ]
  },
  {
   "cell_type": "markdown",
   "metadata": {},
   "source": [
    "De igual manera procedemos con las demás operaciones. Para evitar el mensaje, importaremos primero las funciones desde `Base` y luego las definiremos."
   ]
  },
  {
   "cell_type": "code",
   "execution_count": 160,
   "metadata": {
    "collapsed": false
   },
   "outputs": [
    {
     "data": {
      "text/plain": [
       "- (generic function with 211 methods)"
      ]
     },
     "execution_count": 160,
     "metadata": {},
     "output_type": "execute_result"
    }
   ],
   "source": [
    "import Base.-\n",
    "-(a::AuDiff, b::AuDiff) = AuDiff(a.fun-b.fun, a.der-b.der)"
   ]
  },
  {
   "cell_type": "code",
   "execution_count": 162,
   "metadata": {
    "collapsed": false
   },
   "outputs": [
    {
     "data": {
      "text/plain": [
       "^ (generic function with 46 methods)"
      ]
     },
     "execution_count": 162,
     "metadata": {},
     "output_type": "execute_result"
    }
   ],
   "source": [
    "import Base: *, /, ^\n",
    "\n",
    "*(a::AuDiff, b::AuDiff) = AuDiff(a.fun*b.fun, a.fun*b.der+a.der*b.fun)\n",
    "\n",
    "function /(a::AuDiff, b::AuDiff)\n",
    "    nn = a.fun/b.fun\n",
    "    dd = (a.der - nn*b.der)/b.fun\n",
    "    return AuDiff(nn, dd)\n",
    "end\n",
    "\n",
    "^(a::AuDiff, n::Int) = AuDiff(a.fun^n, n * a.der * a.fun^(n-1))"
   ]
  },
  {
   "cell_type": "markdown",
   "metadata": {},
   "source": [
    "Veamos algunos ejemplos:"
   ]
  },
  {
   "cell_type": "code",
   "execution_count": 163,
   "metadata": {
    "collapsed": false
   },
   "outputs": [
    {
     "data": {
      "text/plain": [
       "AuDiff(8.0,10.0)"
      ]
     },
     "execution_count": 163,
     "metadata": {},
     "output_type": "execute_result"
    }
   ],
   "source": [
    "x + y"
   ]
  },
  {
   "cell_type": "code",
   "execution_count": 164,
   "metadata": {
    "collapsed": false
   },
   "outputs": [
    {
     "data": {
      "text/plain": [
       "AuDiff(-2.0,-2.0)"
      ]
     },
     "execution_count": 164,
     "metadata": {},
     "output_type": "execute_result"
    }
   ],
   "source": [
    "x - y"
   ]
  },
  {
   "cell_type": "code",
   "execution_count": 165,
   "metadata": {
    "collapsed": false
   },
   "outputs": [
    {
     "data": {
      "text/plain": [
       "AuDiff(15.0,38.0)"
      ]
     },
     "execution_count": 165,
     "metadata": {},
     "output_type": "execute_result"
    }
   ],
   "source": [
    "x * y"
   ]
  },
  {
   "cell_type": "code",
   "execution_count": 166,
   "metadata": {
    "collapsed": false
   },
   "outputs": [
    {
     "data": {
      "text/plain": [
       "AuDiff(0.6,0.08000000000000007)"
      ]
     },
     "execution_count": 166,
     "metadata": {},
     "output_type": "execute_result"
    }
   ],
   "source": [
    "x / y"
   ]
  },
  {
   "cell_type": "markdown",
   "metadata": {},
   "source": [
    "### Tipos parametrizados"
   ]
  },
  {
   "cell_type": "markdown",
   "metadata": {},
   "source": [
    "El tipo `AuDiff` que definimos arriba funciona, pero es rígido en el sentido de que sus campos son *siempre* `Float64`. Por ejemplo:"
   ]
  },
  {
   "cell_type": "code",
   "execution_count": 167,
   "metadata": {
    "collapsed": false
   },
   "outputs": [
    {
     "data": {
      "text/plain": [
       "AuDiff(0.8333333333333333,2.0)"
      ]
     },
     "execution_count": 167,
     "metadata": {},
     "output_type": "execute_result"
    }
   ],
   "source": [
    "AuDiff(1//2, 1//1) + AuDiff(1//3, 1//1)"
   ]
  },
  {
   "cell_type": "code",
   "execution_count": 168,
   "metadata": {
    "collapsed": false
   },
   "outputs": [
    {
     "ename": "LoadError",
     "evalue": "LoadError: InexactError()\nwhile loading In[168], in expression starting on line 1",
     "output_type": "error",
     "traceback": [
      "LoadError: InexactError()\nwhile loading In[168], in expression starting on line 1",
      "",
      " in call at In[146]:2"
     ]
    }
   ],
   "source": [
    "AuDiff(complex(1,2), complex(1,1))"
   ]
  },
  {
   "cell_type": "markdown",
   "metadata": {},
   "source": [
    "Hay situaciones en que nos interesa tener un tipo y que éste funcione para distintos tipos de signatura de los parámetros internos, por ejemplo, con `Complex` o `Rational` u otras cosas del estilo. Por ejemplo, cosas tipo:"
   ]
  },
  {
   "cell_type": "code",
   "execution_count": 169,
   "metadata": {
    "collapsed": false
   },
   "outputs": [
    {
     "data": {
      "text/plain": [
       "Complex{Float64}"
      ]
     },
     "execution_count": 169,
     "metadata": {},
     "output_type": "execute_result"
    }
   ],
   "source": [
    "typeof(complex(1.0,2.0))"
   ]
  },
  {
   "cell_type": "code",
   "execution_count": 170,
   "metadata": {
    "collapsed": false
   },
   "outputs": [
    {
     "data": {
      "text/plain": [
       "Complex{Int64}"
      ]
     },
     "execution_count": 170,
     "metadata": {},
     "output_type": "execute_result"
    }
   ],
   "source": [
    "typeof(complex(1,2))"
   ]
  },
  {
   "cell_type": "code",
   "execution_count": 171,
   "metadata": {
    "collapsed": false
   },
   "outputs": [
    {
     "data": {
      "text/plain": [
       "Array{Float64,1}"
      ]
     },
     "execution_count": 171,
     "metadata": {},
     "output_type": "execute_result"
    }
   ],
   "source": [
    "typeof( [1, 2.1] )"
   ]
  },
  {
   "cell_type": "markdown",
   "metadata": {},
   "source": [
    "Noten arriba que el entero \"1\" es *promovido* a Float64 \"1.0\", que es el tipo del segundo elemento."
   ]
  },
  {
   "cell_type": "markdown",
   "metadata": {},
   "source": [
    "Trataremos de hacer esto; sin embargo, Julia **no** permite redefinir las estructuras. Por esto, borraremos **todos** los nombres que tenemos definidos, e iniciaremos de nuevo."
   ]
  },
  {
   "cell_type": "code",
   "execution_count": 172,
   "metadata": {
    "collapsed": true
   },
   "outputs": [],
   "source": [
    "workspace()"
   ]
  },
  {
   "cell_type": "code",
   "execution_count": 173,
   "metadata": {
    "collapsed": true
   },
   "outputs": [],
   "source": [
    "type AuDiff{T}\n",
    "    fun :: T\n",
    "    der :: T\n",
    "end"
   ]
  },
  {
   "cell_type": "markdown",
   "metadata": {},
   "source": [
    "En la definición de `AuDiff`, `T` representa el tipo de la estructura que creamos y *parametriza* a `AuDiff` lo que se indica con `{T}`. Dada esta definición, ambas componentes `x` y `y` tienen que ser del (mismo) tipo `T`."
   ]
  },
  {
   "cell_type": "code",
   "execution_count": 174,
   "metadata": {
    "collapsed": false
   },
   "outputs": [
    {
     "name": "stdout",
     "output_type": "stream",
     "text": [
      "x = AuDiff{Int64}(1,3)"
     ]
    },
    {
     "data": {
      "text/plain": [
       "AuDiff{Float64}(2.0,3.5)"
      ]
     },
     "execution_count": 174,
     "metadata": {},
     "output_type": "execute_result"
    },
    {
     "name": "stdout",
     "output_type": "stream",
     "text": [
      "\n",
      "y = AuDiff{Float64}(2.0,3.5)\n"
     ]
    }
   ],
   "source": [
    "x = AuDiff(1,3)\n",
    "\n",
    "y = AuDiff(2.0,3.5)\n",
    "\n",
    "@show(x, y)"
   ]
  },
  {
   "cell_type": "markdown",
   "metadata": {},
   "source": [
    "El definir una estructura parametrizada hace que, por default, si los parámetros **no** cumplen la signatura del tipo, haya un error:"
   ]
  },
  {
   "cell_type": "code",
   "execution_count": 175,
   "metadata": {
    "collapsed": false
   },
   "outputs": [
    {
     "ename": "LoadError",
     "evalue": "LoadError: MethodError: `convert` has no method matching convert(::Type{AuDiff{T}}, ::Int64, ::Float64)\nThis may have arisen from a call to the constructor AuDiff{T}(...),\nsince type constructors fall back to convert methods.\nClosest candidates are:\n  AuDiff{T}(::T, !Matched::T)\n  call{T}(::Type{T}, ::Any)\n  convert{T}(::Type{T}, !Matched::T)\nwhile loading In[175], in expression starting on line 1",
     "output_type": "error",
     "traceback": [
      "LoadError: MethodError: `convert` has no method matching convert(::Type{AuDiff{T}}, ::Int64, ::Float64)\nThis may have arisen from a call to the constructor AuDiff{T}(...),\nsince type constructors fall back to convert methods.\nClosest candidates are:\n  AuDiff{T}(::T, !Matched::T)\n  call{T}(::Type{T}, ::Any)\n  convert{T}(::Type{T}, !Matched::T)\nwhile loading In[175], in expression starting on line 1",
      "",
      " in call at essentials.jl:57"
     ]
    }
   ],
   "source": [
    "AuDiff(1, 2.3)"
   ]
  },
  {
   "cell_type": "markdown",
   "metadata": {},
   "source": [
    "Noten que la actual definición de `AuDiff{T}` (parametrizada) es *demasiado* flexible, esto es, permite definir ciertos tipos que, quizás, no nos interesa considerar."
   ]
  },
  {
   "cell_type": "code",
   "execution_count": 176,
   "metadata": {
    "collapsed": false
   },
   "outputs": [
    {
     "data": {
      "text/plain": [
       "AuDiff{ASCIIString}(\"Soy\",\"Luis\")"
      ]
     },
     "execution_count": 176,
     "metadata": {},
     "output_type": "execute_result"
    }
   ],
   "source": [
    "AuDiff(\"Soy\", \"Luis\")"
   ]
  },
  {
   "cell_type": "markdown",
   "metadata": {},
   "source": [
    "Las funciones, de hecho, también pueden ser parametrizadas:"
   ]
  },
  {
   "cell_type": "code",
   "execution_count": 177,
   "metadata": {
    "collapsed": false
   },
   "outputs": [
    {
     "data": {
      "text/plain": [
       "+ (generic function with 176 methods)"
      ]
     },
     "execution_count": 177,
     "metadata": {},
     "output_type": "execute_result"
    }
   ],
   "source": [
    "import Base.+\n",
    "+{T}(a::AuDiff{T}, b::AuDiff{T}) = AuDiff{T}(a.fun+b.fun, a.der+b.der)"
   ]
  },
  {
   "cell_type": "markdown",
   "metadata": {},
   "source": [
    "Noten arriba que la función, de hecho, está parametrizada, y que el parámetro está relacionado con el parámetros del tipo de los argumentos. \n",
    "\n"
   ]
  },
  {
   "cell_type": "code",
   "execution_count": 178,
   "metadata": {
    "collapsed": false
   },
   "outputs": [
    {
     "data": {
      "text/plain": [
       "AuDiff{Int64}(0,5)"
      ]
     },
     "execution_count": 178,
     "metadata": {},
     "output_type": "execute_result"
    }
   ],
   "source": [
    "AuDiff(1,3) + AuDiff(-1,2)"
   ]
  },
  {
   "cell_type": "code",
   "execution_count": 179,
   "metadata": {
    "collapsed": false
   },
   "outputs": [
    {
     "ename": "LoadError",
     "evalue": "LoadError: MethodError: `+` has no method matching +(::AuDiff{Int64}, ::AuDiff{Rational{Int64}})\nClosest candidates are:\n  +(::Any, ::Any, !Matched::Any, !Matched::Any...)\n  +{T}(::AuDiff{T}, !Matched::AuDiff{T})\nwhile loading In[179], in expression starting on line 1",
     "output_type": "error",
     "traceback": [
      "LoadError: MethodError: `+` has no method matching +(::AuDiff{Int64}, ::AuDiff{Rational{Int64}})\nClosest candidates are:\n  +(::Any, ::Any, !Matched::Any, !Matched::Any...)\n  +{T}(::AuDiff{T}, !Matched::AuDiff{T})\nwhile loading In[179], in expression starting on line 1",
      ""
     ]
    }
   ],
   "source": [
    "AuDiff(1,3) + AuDiff(-1//2,2//2)"
   ]
  },
  {
   "cell_type": "markdown",
   "metadata": {},
   "source": [
    "El error es claro: no hemos definido cómo sumar `AuDiff{Int64}` con `AuDiff{Rational{Int64}}`; únicamente hemos definido la suma de dos `AuDiff{Int64}` o de dos `AuDiff{Rational{Int64}}`, pero ambos deben ser del mismo tipo, incluyendo sus parametrizaciones."
   ]
  },
  {
   "cell_type": "markdown",
   "metadata": {},
   "source": [
    "Uno, de hecho, podría haber definido la misma operación sin incluir la parte paramétrica; esto tiene consecuencias interesantes, que de hecho, a veces son deseables. Así, tenemos:"
   ]
  },
  {
   "cell_type": "code",
   "execution_count": 180,
   "metadata": {
    "collapsed": false
   },
   "outputs": [
    {
     "data": {
      "text/plain": [
       "- (generic function with 212 methods)"
      ]
     },
     "execution_count": 180,
     "metadata": {},
     "output_type": "execute_result"
    }
   ],
   "source": [
    "import Base.-\n",
    "-(a::AuDiff, b::AuDiff) = AuDiff(a.fun-b.fun, a.der-b.der)"
   ]
  },
  {
   "cell_type": "code",
   "execution_count": 181,
   "metadata": {
    "collapsed": false
   },
   "outputs": [
    {
     "data": {
      "text/plain": [
       "AuDiff{Int64}(2,1)"
      ]
     },
     "execution_count": 181,
     "metadata": {},
     "output_type": "execute_result"
    }
   ],
   "source": [
    "AuDiff(1,3) - AuDiff(-1,2)"
   ]
  },
  {
   "cell_type": "code",
   "execution_count": 182,
   "metadata": {
    "collapsed": false
   },
   "outputs": [
    {
     "data": {
      "text/plain": [
       "AuDiff{Float64}(-2.0,1.9)"
      ]
     },
     "execution_count": 182,
     "metadata": {},
     "output_type": "execute_result"
    }
   ],
   "source": [
    "AuDiff(1,3) - AuDiff(3.0,1.1)"
   ]
  },
  {
   "cell_type": "code",
   "execution_count": 183,
   "metadata": {
    "collapsed": false
   },
   "outputs": [
    {
     "ename": "LoadError",
     "evalue": "LoadError: MethodError: `-` has no method matching -(::Int64, ::ASCIIString)\nClosest candidates are:\n  -(::Int64)\n  -(::Int64, !Matched::Int64)\n  -(::Real, !Matched::Complex{Bool})\n  ...\nwhile loading In[183], in expression starting on line 1",
     "output_type": "error",
     "traceback": [
      "LoadError: MethodError: `-` has no method matching -(::Int64, ::ASCIIString)\nClosest candidates are:\n  -(::Int64)\n  -(::Int64, !Matched::Int64)\n  -(::Real, !Matched::Complex{Bool})\n  ...\nwhile loading In[183], in expression starting on line 1",
      "",
      " in - at In[180]:2"
     ]
    }
   ],
   "source": [
    "AuDiff(1,3) - AuDiff(\"Soy\", \"Luis\")"
   ]
  },
  {
   "cell_type": "markdown",
   "metadata": {},
   "source": [
    "Gracias a que *no* impusimos que `a` y `b` sean *ambos* `AuDiff{T}`, julia puede restarlos."
   ]
  },
  {
   "cell_type": "markdown",
   "metadata": {},
   "source": [
    "### Promotion and convertion"
   ]
  },
  {
   "cell_type": "markdown",
   "metadata": {},
   "source": [
    "La pregunta es, cómo conseguir que *no* nos de un error la instrucción `Vector2D(1, 3.2)`. La respuesta tiene que ver con definir reglas de conversión y promoción. (En este caso concreto, como veremos abajo, una regla de promoción es suficiente.)"
   ]
  },
  {
   "cell_type": "markdown",
   "metadata": {},
   "source": [
    "Convertir entre tipos (donde esto tenga sentido) se logra usando `convert`:"
   ]
  },
  {
   "cell_type": "code",
   "execution_count": 184,
   "metadata": {
    "collapsed": false
   },
   "outputs": [
    {
     "data": {
      "text/plain": [
       "0.5"
      ]
     },
     "execution_count": 184,
     "metadata": {},
     "output_type": "execute_result"
    }
   ],
   "source": [
    "convert(Float64, 1//2)"
   ]
  },
  {
   "cell_type": "code",
   "execution_count": 185,
   "metadata": {
    "collapsed": false
   },
   "outputs": [
    {
     "data": {
      "text/plain": [
       "2-element Array{Float64,1}:\n",
       " 0.5     \n",
       " 0.333333"
      ]
     },
     "execution_count": 185,
     "metadata": {},
     "output_type": "execute_result"
    }
   ],
   "source": [
    "convert(Array{Float64,1}, [1//2, 1//3])"
   ]
  },
  {
   "cell_type": "code",
   "execution_count": 186,
   "metadata": {
    "collapsed": false
   },
   "outputs": [
    {
     "data": {
      "text/plain": [
       "1//2"
      ]
     },
     "execution_count": 186,
     "metadata": {},
     "output_type": "execute_result"
    }
   ],
   "source": [
    "x = convert(Rational{Int128}, 0.5)"
   ]
  },
  {
   "cell_type": "code",
   "execution_count": 187,
   "metadata": {
    "collapsed": false
   },
   "outputs": [
    {
     "data": {
      "text/plain": [
       "Rational{Int128}"
      ]
     },
     "execution_count": 187,
     "metadata": {},
     "output_type": "execute_result"
    }
   ],
   "source": [
    "typeof(x)"
   ]
  },
  {
   "cell_type": "markdown",
   "metadata": {},
   "source": [
    "La operación de conversión debe tener sentido; por ejemplo, ¿qué esperamos que nos de `convert(Int64, 0.6)`?"
   ]
  },
  {
   "cell_type": "code",
   "execution_count": 188,
   "metadata": {
    "collapsed": false
   },
   "outputs": [
    {
     "ename": "LoadError",
     "evalue": "LoadError: InexactError()\nwhile loading In[188], in expression starting on line 1",
     "output_type": "error",
     "traceback": [
      "LoadError: InexactError()\nwhile loading In[188], in expression starting on line 1",
      "",
      " in convert at int.jl:209"
     ]
    }
   ],
   "source": [
    "convert(Int64, 0.6)"
   ]
  },
  {
   "cell_type": "markdown",
   "metadata": {},
   "source": [
    "También, existe la promoción de varios objetos a un tipo común:"
   ]
  },
  {
   "cell_type": "code",
   "execution_count": 189,
   "metadata": {
    "collapsed": false
   },
   "outputs": [
    {
     "data": {
      "text/plain": [
       "(1//1,1//2,2//1)"
      ]
     },
     "execution_count": 189,
     "metadata": {},
     "output_type": "execute_result"
    }
   ],
   "source": [
    "tup = promote(1, 1//2, BigInt(2))"
   ]
  },
  {
   "cell_type": "code",
   "execution_count": 190,
   "metadata": {
    "collapsed": false
   },
   "outputs": [
    {
     "data": {
      "text/plain": [
       "Tuple{Rational{BigInt},Rational{BigInt},Rational{BigInt}}"
      ]
     },
     "execution_count": 190,
     "metadata": {},
     "output_type": "execute_result"
    }
   ],
   "source": [
    "typeof(tup)"
   ]
  },
  {
   "cell_type": "markdown",
   "metadata": {},
   "source": [
    "Como vimos, Julia define un árbol jerárquico en la organización de los tipos. Para entender esto veamos dos casos:"
   ]
  },
  {
   "cell_type": "code",
   "execution_count": null,
   "metadata": {
    "collapsed": false
   },
   "outputs": [],
   "source": [
    "? Int64"
   ]
  },
  {
   "cell_type": "code",
   "execution_count": null,
   "metadata": {
    "collapsed": false
   },
   "outputs": [],
   "source": [
    "? Rational"
   ]
  },
  {
   "cell_type": "code",
   "execution_count": null,
   "metadata": {
    "collapsed": false
   },
   "outputs": [],
   "source": [
    "? Signed"
   ]
  },
  {
   "cell_type": "markdown",
   "metadata": {},
   "source": [
    "Esto muestra que hay ciertos tipos *concretos* (como `Int64`, `Float64`) y *otros* que son abstractos; los segundos en algún sentido agrupan varios tipos distintos."
   ]
  },
  {
   "cell_type": "markdown",
   "metadata": {},
   "source": [
    "La instrucción `super` permite ver qué tipo está directamente arriba en la estructura del árbol:"
   ]
  },
  {
   "cell_type": "code",
   "execution_count": null,
   "metadata": {
    "collapsed": false
   },
   "outputs": [],
   "source": [
    "super(Float64)"
   ]
  },
  {
   "cell_type": "code",
   "execution_count": null,
   "metadata": {
    "collapsed": false
   },
   "outputs": [],
   "source": [
    "super(AbstractFloat)"
   ]
  },
  {
   "cell_type": "code",
   "execution_count": null,
   "metadata": {
    "collapsed": false
   },
   "outputs": [],
   "source": [
    "super(Real)"
   ]
  },
  {
   "cell_type": "markdown",
   "metadata": {},
   "source": [
    "... y la instrucción subtypes, qué está por debajo:"
   ]
  },
  {
   "cell_type": "code",
   "execution_count": null,
   "metadata": {
    "collapsed": false
   },
   "outputs": [],
   "source": [
    "subtypes(Real)"
   ]
  },
  {
   "cell_type": "code",
   "execution_count": null,
   "metadata": {
    "collapsed": false
   },
   "outputs": [],
   "source": [
    "subtypes(Number)"
   ]
  },
  {
   "cell_type": "markdown",
   "metadata": {},
   "source": [
    "La estructura de árbol tiene un tope *por arriba*, `Any`:"
   ]
  },
  {
   "cell_type": "code",
   "execution_count": null,
   "metadata": {
    "collapsed": false
   },
   "outputs": [],
   "source": [
    "super(Number)"
   ]
  },
  {
   "cell_type": "code",
   "execution_count": null,
   "metadata": {
    "collapsed": false
   },
   "outputs": [],
   "source": [
    "super(Any)"
   ]
  },
  {
   "cell_type": "code",
   "execution_count": null,
   "metadata": {
    "collapsed": true
   },
   "outputs": [],
   "source": [
    "subtypes(Any)"
   ]
  },
  {
   "cell_type": "markdown",
   "metadata": {},
   "source": [
    "Vale la pena notar que existe, entre varias cosas, el tipo `Void` (antes `Nothing`)"
   ]
  },
  {
   "cell_type": "code",
   "execution_count": null,
   "metadata": {
    "collapsed": false
   },
   "outputs": [],
   "source": [
    "? Void"
   ]
  },
  {
   "cell_type": "markdown",
   "metadata": {},
   "source": [
    "Volviendo al punto de cómo hacer para que `Vector2D{1, 3.2}` funcione, podemos definir un nuevo *método*, para la creación del tipo `Vector2D`, que involucre una promoción de tipos, de la siguiente manera:"
   ]
  },
  {
   "cell_type": "code",
   "execution_count": null,
   "metadata": {
    "collapsed": false
   },
   "outputs": [],
   "source": [
    "AuDiff(a, b) = AuDiff(promote(a,b)...)"
   ]
  },
  {
   "cell_type": "code",
   "execution_count": null,
   "metadata": {
    "collapsed": false
   },
   "outputs": [],
   "source": [
    "methods(AuDiff)"
   ]
  },
  {
   "cell_type": "code",
   "execution_count": null,
   "metadata": {
    "collapsed": false
   },
   "outputs": [],
   "source": [
    "AuDiff(1, 3.2)"
   ]
  },
  {
   "cell_type": "markdown",
   "metadata": {},
   "source": [
    "Obviamente, esto sólo tendrá sentido cuando la promoción tiene sentido; cuando no la tiene, arrojará un error:"
   ]
  },
  {
   "cell_type": "code",
   "execution_count": null,
   "metadata": {
    "collapsed": false
   },
   "outputs": [],
   "source": [
    "AuDiff(\"Hola\", 3.2)"
   ]
  },
  {
   "cell_type": "markdown",
   "metadata": {},
   "source": [
    "Por último, uno puede restringir el tipo de parámetros de una estructura, usando la notación ` T <: R` que significa que el parámetro `T` es subtipo de `R`. Un ejemplo es `T <: Real`."
   ]
  },
  {
   "cell_type": "code",
   "execution_count": null,
   "metadata": {
    "collapsed": true
   },
   "outputs": [],
   "source": [
    "workspace()"
   ]
  },
  {
   "cell_type": "code",
   "execution_count": null,
   "metadata": {
    "collapsed": true
   },
   "outputs": [],
   "source": [
    "type AuDiff{T<:Real}\n",
    "    fun :: T\n",
    "    der :: T\n",
    "end"
   ]
  },
  {
   "cell_type": "markdown",
   "metadata": {},
   "source": [
    "Agregamos la promoción de los tipos:"
   ]
  },
  {
   "cell_type": "code",
   "execution_count": null,
   "metadata": {
    "collapsed": false
   },
   "outputs": [],
   "source": [
    "AuDiff(a, b) = AuDiff(promote(a,b)...)"
   ]
  },
  {
   "cell_type": "code",
   "execution_count": null,
   "metadata": {
    "collapsed": false
   },
   "outputs": [],
   "source": [
    "AuDiff(1, 3.2)"
   ]
  },
  {
   "cell_type": "code",
   "execution_count": null,
   "metadata": {
    "collapsed": false
   },
   "outputs": [],
   "source": [
    "AuDiff(\"Soy\", \"Luis\")"
   ]
  },
  {
   "cell_type": "markdown",
   "metadata": {},
   "source": [
    "La notación `T <: R` de hecho puede ser utilizada para saber si un tipo es subtipo de otro:"
   ]
  },
  {
   "cell_type": "code",
   "execution_count": null,
   "metadata": {
    "collapsed": false
   },
   "outputs": [],
   "source": [
    "Int64 <: Real"
   ]
  },
  {
   "cell_type": "code",
   "execution_count": null,
   "metadata": {
    "collapsed": false
   },
   "outputs": [],
   "source": [
    "Int64 <: Void"
   ]
  },
  {
   "cell_type": "code",
   "execution_count": null,
   "metadata": {
    "collapsed": false
   },
   "outputs": [],
   "source": [
    "Void <: Int64"
   ]
  },
  {
   "cell_type": "markdown",
   "metadata": {},
   "source": [
    "Las dos últimas instrucciones muestran que `Void` e `Int64` pertenecen a dos ramas distintas del árbol jerárquico de tipos; en otras palabras, el tipo superior común entre `Int64` y `Void` es `Any`:"
   ]
  },
  {
   "cell_type": "code",
   "execution_count": null,
   "metadata": {
    "collapsed": false
   },
   "outputs": [],
   "source": [
    "promote_type(Int64, Void)"
   ]
  },
  {
   "cell_type": "markdown",
   "metadata": {},
   "source": [
    "Finalmente, para definir que algo una estructura específica es un subtipo de algo específico, usamos `<:` nuevamente:"
   ]
  },
  {
   "cell_type": "code",
   "execution_count": null,
   "metadata": {
    "collapsed": true
   },
   "outputs": [],
   "source": [
    "workspace()"
   ]
  },
  {
   "cell_type": "code",
   "execution_count": null,
   "metadata": {
    "collapsed": true
   },
   "outputs": [],
   "source": [
    "type AuDiff{T<:Real} <: Real\n",
    "    fun :: T\n",
    "    der :: T\n",
    "end"
   ]
  },
  {
   "cell_type": "code",
   "execution_count": null,
   "metadata": {
    "collapsed": false
   },
   "outputs": [],
   "source": [
    "AuDiff(a, b) = AuDiff(promote(a,b)...)"
   ]
  },
  {
   "cell_type": "code",
   "execution_count": null,
   "metadata": {
    "collapsed": false
   },
   "outputs": [],
   "source": [
    "import Base: +, -, *, /, ^\n",
    "\n",
    "+(a::AuDiff, b::AuDiff) = AuDiff(a.fun+b.fun, a.der+b.der)\n",
    "\n",
    "-(a::AuDiff, b::AuDiff) = AuDiff(a.fun-b.fun, a.der-b.der)\n",
    "\n",
    "*(a::AuDiff, b::AuDiff) = AuDiff(a.fun*b.fun, a.fun*b.der+a.der*b.fun)\n",
    "\n",
    "function /(a::AuDiff, b::AuDiff)\n",
    "    nn = a.fun/b.fun\n",
    "    dd = (a.der - nn*b.der)/b.fun\n",
    "    return AuDiff(nn, dd)\n",
    "end\n",
    "\n",
    "^(a::AuDiff, n::Int) = AuDiff(a.fun^n, n * a.der * a.fun^(n-1))"
   ]
  },
  {
   "cell_type": "markdown",
   "metadata": {},
   "source": [
    "**Ejercicio 5:** ¿Qué representa la estructura que definimos? ¿Qué se puede calcular? Para guiar la respuesta, consideren un polinomio sencillo, $p(x) = 7x^4 - 3x + 1$, y jugando con las operaciones definidas para `x::AuDiff{T}` aclaren qué representan los campos de `x`.\n",
    "Escriban clara y detalladamente."
   ]
  },
  {
   "cell_type": "code",
   "execution_count": null,
   "metadata": {
    "collapsed": true
   },
   "outputs": [],
   "source": []
  }
 ],
 "metadata": {
  "kernelspec": {
   "display_name": "Julia 0.4.0",
   "language": "julia",
   "name": "julia-0.4"
  },
  "language_info": {
   "file_extension": ".jl",
   "mimetype": "application/julia",
   "name": "julia",
   "version": "0.4.0"
  }
 },
 "nbformat": 4,
 "nbformat_minor": 0
}
